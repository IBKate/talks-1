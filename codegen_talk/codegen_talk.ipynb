{
 "metadata": {
  "name": "",
  "signature": "sha256:61de3859698fec0f9c2dc1b09b1103d058fc58896bf2c039abaa4774dbb4499f"
 },
 "nbformat": 3,
 "nbformat_minor": 0,
 "worksheets": [
  {
   "cells": [
    {
     "cell_type": "markdown",
     "metadata": {},
     "source": [
      "# Code Generation with SymPy - Demo"
     ]
    },
    {
     "cell_type": "markdown",
     "metadata": {},
     "source": [
      "The following examples correlate with the presentation \"Generating Fast and Correct Code with SymPy\", which can be found [here](https://speakerdeck.com/jcrist/generating-fast-and-correct-code-with-sympy). Note that these examples rely on:\n",
      "\n",
      "- sympy (at least [0.7.5-git](https://github.com/sympy/sympy)).\n",
      "- numpy\n",
      "- ipython\n",
      "- A C compiler (such as `gcc`)\n",
      "- A Fortran compiler (such as `gfortran`)"
     ]
    },
    {
     "cell_type": "markdown",
     "metadata": {},
     "source": [
      "## Create some example expressions"
     ]
    },
    {
     "cell_type": "code",
     "collapsed": false,
     "input": [
      "from sympy import *\n",
      "from __future__ import print_function\n",
      "\n",
      "# Symbols represent variables, with the type inferred using\n",
      "# SymPy's assumption system\n",
      "a, b, c = symbols('a, b, c')\n",
      "\n",
      "# MatrixSymbols represent arrays\n",
      "y = MatrixSymbol('y', 3, 1)\n",
      "x = MatrixSymbol('x', 5, 1)"
     ],
     "language": "python",
     "metadata": {},
     "outputs": [],
     "prompt_number": 1
    },
    {
     "cell_type": "code",
     "collapsed": false,
     "input": [
      "# Simple, scalar expression\n",
      "expr = sin(a) + cos(b**2)*c\n",
      "expr"
     ],
     "language": "python",
     "metadata": {},
     "outputs": [
      {
       "metadata": {},
       "output_type": "pyout",
       "prompt_number": 2,
       "text": [
        "c*cos(b**2) + sin(a)"
       ]
      }
     ],
     "prompt_number": 2
    },
    {
     "cell_type": "code",
     "collapsed": false,
     "input": [
      "# Piecewise implement conditional statements in SymPy\n",
      "my_sign = Piecewise((a, a > 0), (-a, a < 0), (0, True))\n",
      "my_sign"
     ],
     "language": "python",
     "metadata": {},
     "outputs": [
      {
       "metadata": {},
       "output_type": "pyout",
       "prompt_number": 3,
       "text": [
        "Piecewise((a, a > 0), (-a, a < 0), (0, True))"
       ]
      }
     ],
     "prompt_number": 3
    },
    {
     "cell_type": "code",
     "collapsed": false,
     "input": [
      "# A matrix of expressions. This one also contains a matrix as an argument\n",
      "mat_expr = Matrix([expr, my_sign, sum(x)])\n",
      "mat_expr"
     ],
     "language": "python",
     "metadata": {},
     "outputs": [
      {
       "metadata": {},
       "output_type": "pyout",
       "prompt_number": 4,
       "text": [
        "Matrix([\n",
        "[                           c*cos(b**2) + sin(a)],\n",
        "[  Piecewise((a, a > 0), (-a, a < 0), (0, True))],\n",
        "[x[0, 0] + x[1, 0] + x[2, 0] + x[3, 0] + x[4, 0]]])"
       ]
      }
     ],
     "prompt_number": 4
    },
    {
     "cell_type": "markdown",
     "metadata": {},
     "source": [
      "## Code Printers"
     ]
    },
    {
     "cell_type": "markdown",
     "metadata": {},
     "source": [
      "Code printers print out expressions passed to them. They accept an optional `assign_to` kwarg, which is used to set the left hand side of assignments."
     ]
    },
    {
     "cell_type": "markdown",
     "metadata": {},
     "source": [
      "### `ccode`"
     ]
    },
    {
     "cell_type": "code",
     "collapsed": false,
     "input": [
      "print(ccode(mat_expr, assign_to=y))"
     ],
     "language": "python",
     "metadata": {},
     "outputs": [
      {
       "output_type": "stream",
       "stream": "stdout",
       "text": [
        "y[0] = c*cos(pow(b, 2)) + sin(a);\n",
        "if (a > 0) {\n",
        "   y[1] = a;\n",
        "}\n",
        "else if (a < 0) {\n",
        "   y[1] = -a;\n",
        "}\n",
        "else {\n",
        "   y[1] = 0;\n",
        "}\n",
        "y[2] = x[0] + x[1] + x[2] + x[3] + x[4];\n"
       ]
      }
     ],
     "prompt_number": 5
    },
    {
     "cell_type": "markdown",
     "metadata": {},
     "source": [
      "### fcode"
     ]
    },
    {
     "cell_type": "code",
     "collapsed": false,
     "input": [
      "print(fcode(mat_expr, assign_to=y))"
     ],
     "language": "python",
     "metadata": {},
     "outputs": [
      {
       "output_type": "stream",
       "stream": "stdout",
       "text": [
        "      y(1, 1) = c*cos(b**2) + sin(a)\n",
        "      if (a > 0) then\n",
        "         y(2, 1) = a\n",
        "      else if (a < 0) then\n",
        "         y(2, 1) = -a\n",
        "      else\n",
        "         y(2, 1) = 0\n",
        "      end if\n",
        "      y(3, 1) = x(1, 1) + x(2, 1) + x(3, 1) + x(4, 1) + x(5, 1)\n"
       ]
      }
     ],
     "prompt_number": 6
    },
    {
     "cell_type": "markdown",
     "metadata": {},
     "source": [
      "### jscode"
     ]
    },
    {
     "cell_type": "code",
     "collapsed": false,
     "input": [
      "print(jscode(mat_expr, assign_to=y))"
     ],
     "language": "python",
     "metadata": {},
     "outputs": [
      {
       "output_type": "stream",
       "stream": "stdout",
       "text": [
        "y[0] = c*Math.cos(Math.pow(b, 2)) + Math.sin(a);\n",
        "if (a > 0) {\n",
        "   y[1] = a;\n",
        "}\n",
        "else if (a < 0) {\n",
        "   y[1] = -a;\n",
        "}\n",
        "else {\n",
        "   y[1] = 0;\n",
        "}\n",
        "y[2] = x[0] + x[1] + x[2] + x[3] + x[4];\n"
       ]
      }
     ],
     "prompt_number": 7
    },
    {
     "cell_type": "markdown",
     "metadata": {},
     "source": [
      "## Code Generators"
     ]
    },
    {
     "cell_type": "markdown",
     "metadata": {},
     "source": [
      "Code Generators accept expressions, use the code printers to print the expression as code, and return code and header text that can be directly compiled into native functions. Currently only C and Fortran are supported.\n",
      "\n",
      "A user friendly `codegen` function is provided, but for more features the Code Generators should be used directly. See the docstrings for more details."
     ]
    },
    {
     "cell_type": "markdown",
     "metadata": {},
     "source": [
      "### C"
     ]
    },
    {
     "cell_type": "code",
     "collapsed": false,
     "input": [
      "from sympy.utilities.codegen import codegen"
     ],
     "language": "python",
     "metadata": {},
     "outputs": [],
     "prompt_number": 8
    },
    {
     "cell_type": "code",
     "collapsed": false,
     "input": [
      "code, header = codegen(('demo', Eq(y, mat_expr)), 'c', 'demo')"
     ],
     "language": "python",
     "metadata": {},
     "outputs": [],
     "prompt_number": 9
    },
    {
     "cell_type": "code",
     "collapsed": false,
     "input": [
      "print(code[1])"
     ],
     "language": "python",
     "metadata": {},
     "outputs": [
      {
       "output_type": "stream",
       "stream": "stdout",
       "text": [
        "/******************************************************************************\n",
        " *                    Code generated with sympy 0.7.5-git                     *\n",
        " *                                                                            *\n",
        " *              See http://www.sympy.org/ for more information.               *\n",
        " *                                                                            *\n",
        " *                       This file is part of 'project'                       *\n",
        " ******************************************************************************/\n",
        "#include \"demo.h\"\n",
        "#include <math.h>\n",
        "\n",
        "void demo(double a, double b, double c, double *x, double *y) {\n",
        "\n",
        "   y[0] = c*cos(pow(b, 2)) + sin(a);\n",
        "   if (a > 0) {\n",
        "      y[1] = a;\n",
        "   }\n",
        "   else if (a < 0) {\n",
        "      y[1] = -a;\n",
        "   }\n",
        "   else {\n",
        "      y[1] = 0;\n",
        "   }\n",
        "   y[2] = x[0] + x[1] + x[2] + x[3] + x[4];\n",
        "\n",
        "}\n",
        "\n"
       ]
      }
     ],
     "prompt_number": 10
    },
    {
     "cell_type": "code",
     "collapsed": false,
     "input": [
      "print(header[1])"
     ],
     "language": "python",
     "metadata": {},
     "outputs": [
      {
       "output_type": "stream",
       "stream": "stdout",
       "text": [
        "/******************************************************************************\n",
        " *                    Code generated with sympy 0.7.5-git                     *\n",
        " *                                                                            *\n",
        " *              See http://www.sympy.org/ for more information.               *\n",
        " *                                                                            *\n",
        " *                       This file is part of 'project'                       *\n",
        " ******************************************************************************/\n",
        "\n",
        "\n",
        "#ifndef PROJECT__DEMO__H\n",
        "#define PROJECT__DEMO__H\n",
        "\n",
        "void demo(double a, double b, double c, double *x, double *y);\n",
        "\n",
        "#endif\n",
        "\n",
        "\n"
       ]
      }
     ],
     "prompt_number": 11
    },
    {
     "cell_type": "markdown",
     "metadata": {},
     "source": [
      "### Fortran"
     ]
    },
    {
     "cell_type": "code",
     "collapsed": false,
     "input": [
      "code, header = codegen(('demo', Eq(y, mat_expr)), 'f95', 'demo')"
     ],
     "language": "python",
     "metadata": {},
     "outputs": [],
     "prompt_number": 12
    },
    {
     "cell_type": "code",
     "collapsed": false,
     "input": [
      "print(code[1])"
     ],
     "language": "python",
     "metadata": {},
     "outputs": [
      {
       "output_type": "stream",
       "stream": "stdout",
       "text": [
        "!******************************************************************************\n",
        "!*                    Code generated with sympy 0.7.5-git                     *\n",
        "!*                                                                            *\n",
        "!*              See http://www.sympy.org/ for more information.               *\n",
        "!*                                                                            *\n",
        "!*                       This file is part of 'project'                       *\n",
        "!******************************************************************************\n",
        "\n",
        "subroutine demo(a, b, c, x, y)\n",
        "implicit none\n",
        "REAL*8, intent(in) :: a\n",
        "REAL*8, intent(in) :: b\n",
        "REAL*8, intent(in) :: c\n",
        "REAL*8, intent(in), dimension(1:5, 1:1) :: x\n",
        "REAL*8, intent(out), dimension(1:3, 1:1) :: y\n",
        "\n",
        "y(1, 1) = c*cos(b**2) + sin(a)\n",
        "if (a > 0) then\n",
        "   y(2, 1) = a\n",
        "else if (a < 0) then\n",
        "   y(2, 1) = -a\n",
        "else\n",
        "   y(2, 1) = 0\n",
        "end if\n",
        "y(3, 1) = x(1, 1) + x(2, 1) + x(3, 1) + x(4, 1) + x(5, 1)\n",
        "\n",
        "end subroutine\n",
        "\n"
       ]
      }
     ],
     "prompt_number": 13
    },
    {
     "cell_type": "code",
     "collapsed": false,
     "input": [
      "print(header[1])"
     ],
     "language": "python",
     "metadata": {},
     "outputs": [
      {
       "output_type": "stream",
       "stream": "stdout",
       "text": [
        "!******************************************************************************\n",
        "!*                    Code generated with sympy 0.7.5-git                     *\n",
        "!*                                                                            *\n",
        "!*              See http://www.sympy.org/ for more information.               *\n",
        "!*                                                                            *\n",
        "!*                       This file is part of 'project'                       *\n",
        "!******************************************************************************\n",
        "\n",
        "\n",
        "interface\n",
        "subroutine demo(a, b, c, x, y)\n",
        "implicit none\n",
        "REAL*8, intent(in) :: a\n",
        "REAL*8, intent(in) :: b\n",
        "REAL*8, intent(in) :: c\n",
        "REAL*8, intent(in), dimension(1:5, 1:1) :: x\n",
        "REAL*8, intent(out), dimension(1:3, 1:1) :: y\n",
        "end subroutine\n",
        "end interface\n",
        "\n",
        "\n"
       ]
      }
     ],
     "prompt_number": 14
    },
    {
     "cell_type": "markdown",
     "metadata": {},
     "source": [
      "## Code Wrappers"
     ]
    },
    {
     "cell_type": "markdown",
     "metadata": {},
     "source": [
      "Code Wrappers wrap the native code in a Python wrapper, so that it can be called by python functions. 3 wrappers are currently supported: `cython`, `f2py`, and one that uses the `numpy.ufunc` C api. These wrappers can be directly, or accessed easily using one of the two convenience functions: `autowrap` and `ufuncify`."
     ]
    },
    {
     "cell_type": "markdown",
     "metadata": {},
     "source": [
      "### `autowrap`"
     ]
    },
    {
     "cell_type": "markdown",
     "metadata": {},
     "source": [
      "`autowrap` takes in a sympy expression, and returns a wrapped native function that can be directly called in python. It accepts many options, but the only mandatory one is the expression. See the docstring for details."
     ]
    },
    {
     "cell_type": "code",
     "collapsed": true,
     "input": [
      "from sympy.utilities.autowrap import autowrap"
     ],
     "language": "python",
     "metadata": {},
     "outputs": [],
     "prompt_number": 15
    },
    {
     "cell_type": "code",
     "collapsed": false,
     "input": [
      "# Create the native function using `autowrap`\n",
      "native_func = autowrap(expr)"
     ],
     "language": "python",
     "metadata": {},
     "outputs": [],
     "prompt_number": 16
    },
    {
     "cell_type": "markdown",
     "metadata": {},
     "source": [
      "For comparison, we'll use `lambdify` to create a Python function (with math done by `numpy`) for the same expression. `lambdify` creates a valid python expression contained inside a `lambda` function, applies `eval` to the string, and returns the function."
     ]
    },
    {
     "cell_type": "code",
     "collapsed": false,
     "input": [
      "np_func = lambdify((a, b, c), expr, modules='numpy')"
     ],
     "language": "python",
     "metadata": {},
     "outputs": [],
     "prompt_number": 17
    },
    {
     "cell_type": "code",
     "collapsed": false,
     "input": [
      "# Doc and type of the lambdify'd function\n",
      "print(np_func.__doc__)\n",
      "print(\"\\n\\ntype of np_func is\", type(np_func))"
     ],
     "language": "python",
     "metadata": {},
     "outputs": [
      {
       "output_type": "stream",
       "stream": "stdout",
       "text": [
        "Created with lambdify. Signature:\n",
        "\n",
        "func(a, b, c)\n",
        "\n",
        "\n",
        "type of np_func is <class 'function'>\n"
       ]
      }
     ],
     "prompt_number": 18
    },
    {
     "cell_type": "code",
     "collapsed": false,
     "input": [
      "# Doc and type of the autowrap\n",
      "print(native_func.__doc__)\n",
      "print(\"\\ntype of native_func is\", type(native_func), \"\\n\\n\")"
     ],
     "language": "python",
     "metadata": {},
     "outputs": [
      {
       "output_type": "stream",
       "stream": "stdout",
       "text": [
        "autofunc = autofunc(a,b,c)\n",
        "\n",
        "Wrapper for ``autofunc``.\n",
        "\n",
        "Parameters\n",
        "----------\n",
        "a : input float\n",
        "b : input float\n",
        "c : input float\n",
        "\n",
        "Returns\n",
        "-------\n",
        "autofunc : float\n",
        "\n",
        "\n",
        "type of native_func is <class 'fortran'> \n",
        "\n",
        "\n"
       ]
      }
     ],
     "prompt_number": 19
    },
    {
     "cell_type": "markdown",
     "metadata": {},
     "source": [
      "For comparison, we can use `%timeit` to time a simple evaluation. First, let's ensure that the two functions are equivalent."
     ]
    },
    {
     "cell_type": "code",
     "collapsed": false,
     "input": [
      "np_func(1, 2, 3) == native_func(1, 2, 3)"
     ],
     "language": "python",
     "metadata": {},
     "outputs": [
      {
       "metadata": {},
       "output_type": "pyout",
       "prompt_number": 20,
       "text": [
        "True"
       ]
      }
     ],
     "prompt_number": 20
    },
    {
     "cell_type": "code",
     "collapsed": false,
     "input": [
      "%timeit np_func(1, 2, 3)"
     ],
     "language": "python",
     "metadata": {},
     "outputs": [
      {
       "output_type": "stream",
       "stream": "stdout",
       "text": [
        "10000 loops, best of 3: 18 \u00b5s per loop\n"
       ]
      }
     ],
     "prompt_number": 21
    },
    {
     "cell_type": "code",
     "collapsed": false,
     "input": [
      "%timeit native_func(1, 2, 3)"
     ],
     "language": "python",
     "metadata": {},
     "outputs": [
      {
       "output_type": "stream",
       "stream": "stdout",
       "text": [
        "1000000 loops, best of 3: 700 ns per loop\n"
       ]
      }
     ],
     "prompt_number": 22
    },
    {
     "cell_type": "markdown",
     "metadata": {},
     "source": [
      "### `ufuncify`"
     ]
    },
    {
     "cell_type": "markdown",
     "metadata": {},
     "source": [
      "`ufuncify` creates a function of type `numpy.ufunc` (by default), which allows for *broadcasting* and *implicit type conversion*. It does this by wrapping the generated code in numpy's api, so all of generated sympy expressions can benefit from all the perks of the numpy framework."
     ]
    },
    {
     "cell_type": "code",
     "collapsed": false,
     "input": [
      "from sympy.utilities.autowrap import ufuncify\n",
      "import numpy as np"
     ],
     "language": "python",
     "metadata": {},
     "outputs": [],
     "prompt_number": 23
    },
    {
     "cell_type": "markdown",
     "metadata": {},
     "source": [
      "Most math functions found in `numpy` are of type `ufunc`. `ufunc`s broadcast their arguments over *n-dimensional* arrays, removing the need for explicit looping over the inputs. Further, type conversion is handled automatically, so functions defined only for type *double* can accept integers and have numpy handle the magic."
     ]
    },
    {
     "cell_type": "code",
     "collapsed": false,
     "input": [
      "# Type of sin\n",
      "type(np.sin)"
     ],
     "language": "python",
     "metadata": {},
     "outputs": [
      {
       "metadata": {},
       "output_type": "pyout",
       "prompt_number": 24,
       "text": [
        "numpy.ufunc"
       ]
      }
     ],
     "prompt_number": 24
    },
    {
     "cell_type": "code",
     "collapsed": false,
     "input": [
      "# Broadcasting & type conversion (list->array, int->double)\n",
      "np.sin([1, 2, 3])"
     ],
     "language": "python",
     "metadata": {},
     "outputs": [
      {
       "metadata": {},
       "output_type": "pyout",
       "prompt_number": 25,
       "text": [
        "array([ 0.84147098,  0.90929743,  0.14112001])"
       ]
      }
     ],
     "prompt_number": 25
    },
    {
     "cell_type": "markdown",
     "metadata": {},
     "source": [
      "Functions created with `lambdify` using `numpy` for math get the benefit of broadcasting builtin (they're just python code, the same as you would write by hand)."
     ]
    },
    {
     "cell_type": "code",
     "collapsed": false,
     "input": [
      "# lambdified functions broadcast\n",
      "np_func([1, 2, 3], 2, 3)"
     ],
     "language": "python",
     "metadata": {},
     "outputs": [
      {
       "metadata": {},
       "output_type": "pyout",
       "prompt_number": 26,
       "text": [
        "array([-1.11945988, -1.05163344, -1.81981085])"
       ]
      }
     ],
     "prompt_number": 26
    },
    {
     "cell_type": "markdown",
     "metadata": {},
     "source": [
      "Functions created with `autowrap` don't broadcast though. If the `f2py` backend is used you at least get type conversion (`cython` won't do this), but it will ignore array arguments."
     ]
    },
    {
     "cell_type": "code",
     "collapsed": false,
     "input": [
      "# autowrapped functions don't broadcast\n",
      "native_func([1, 2, 3], 2, 3)"
     ],
     "language": "python",
     "metadata": {},
     "outputs": [
      {
       "metadata": {},
       "output_type": "pyout",
       "prompt_number": 27,
       "text": [
        "-1.1194598777829394"
       ]
      }
     ],
     "prompt_number": 27
    },
    {
     "cell_type": "markdown",
     "metadata": {},
     "source": [
      "That's what `ufuncify` is for. It needs a tuple of arguments, and the expression to wrap. Note that only scalar functions (in math $\\operatorname{f} : \\mathbb{R}^n \\rightarrow \\mathbb{R}$) are supported."
     ]
    },
    {
     "cell_type": "code",
     "collapsed": false,
     "input": [
      "my_ufunc = ufuncify((a, b, c), expr)"
     ],
     "language": "python",
     "metadata": {},
     "outputs": [],
     "prompt_number": 28
    },
    {
     "cell_type": "code",
     "collapsed": false,
     "input": [
      "# Doc and type of ufuncify'd function\n",
      "print(my_ufunc.__doc__)\n",
      "print(\"\\n\\ntype of my_ufunc is\", type(my_ufunc), \"\\n\\n\")"
     ],
     "language": "python",
     "metadata": {},
     "outputs": [
      {
       "output_type": "stream",
       "stream": "stdout",
       "text": [
        "wrapper_module_1(x1, x2, x3[, out])\n",
        "\n",
        "Created in SymPy with Ufuncify\n",
        "\n",
        "\n",
        "type of my_ufunc is <class 'numpy.ufunc'> \n",
        "\n",
        "\n"
       ]
      }
     ],
     "prompt_number": 29
    },
    {
     "cell_type": "markdown",
     "metadata": {},
     "source": [
      "For comparison, we can use `%timeit` to time a simple evaluation. First, let's ensure that the two functions are equivalent."
     ]
    },
    {
     "cell_type": "code",
     "collapsed": false,
     "input": [
      "np.all(my_ufunc([1, 2, 3], 2, 3) == np_func([1, 2, 3], 2, 3))"
     ],
     "language": "python",
     "metadata": {},
     "outputs": [
      {
       "metadata": {},
       "output_type": "pyout",
       "prompt_number": 30,
       "text": [
        "True"
       ]
      }
     ],
     "prompt_number": 30
    },
    {
     "cell_type": "code",
     "collapsed": false,
     "input": [
      "%timeit np_func(np.arange(100), np.arange(100), 4)"
     ],
     "language": "python",
     "metadata": {},
     "outputs": [
      {
       "output_type": "stream",
       "stream": "stdout",
       "text": [
        "10000 loops, best of 3: 48.7 \u00b5s per loop\n"
       ]
      }
     ],
     "prompt_number": 31
    },
    {
     "cell_type": "code",
     "collapsed": false,
     "input": [
      "%timeit my_ufunc(np.arange(100), np.arange(100), 4)"
     ],
     "language": "python",
     "metadata": {},
     "outputs": [
      {
       "output_type": "stream",
       "stream": "stdout",
       "text": [
        "10000 loops, best of 3: 36.8 \u00b5s per loop\n"
       ]
      }
     ],
     "prompt_number": 32
    },
    {
     "cell_type": "markdown",
     "metadata": {},
     "source": [
      "`numpy` already does pretty well on it's own for small expressions, but for larger expressions a custom `ufunc` will run *significantly* faster than one composed from smaller `numpy.ufunc`s."
     ]
    }
   ],
   "metadata": {}
  }
 ]
}
