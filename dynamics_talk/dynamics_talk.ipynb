{
 "metadata": {
  "kernelspec": {
   "codemirror_mode": {
    "name": "ipython",
    "version": 2
   },
   "display_name": "IPython (Python 2)",
   "language": "python",
   "name": "python2"
  },
  "name": "",
  "signature": "sha256:efbfafb5f0837f44dd6b5ccc74db599a98ad6e97ba227ad32430c2aa563c3fe9"
 },
 "nbformat": 3,
 "nbformat_minor": 0,
 "worksheets": [
  {
   "cells": [
    {
     "cell_type": "markdown",
     "metadata": {},
     "source": [
      "# Inverted Pendulum Simulation"
     ]
    },
    {
     "cell_type": "code",
     "collapsed": false,
     "input": [
      "from IPython.display import SVG\n",
      "SVG(filename='n-pendulum-with-cart.svg')"
     ],
     "language": "python",
     "metadata": {},
     "outputs": [
      {
       "metadata": {},
       "output_type": "pyout",
       "prompt_number": 1,
       "svg": [
        "<svg height=\"270\" id=\"svg2\" inkscape:version=\"0.48.3.1 r9886\" sodipodi:docname=\"n-pendulum-with-cart.svg\" version=\"1.1\" width=\"360\" xmlns=\"http://www.w3.org/2000/svg\" xmlns:cc=\"http://creativecommons.org/ns#\" xmlns:dc=\"http://purl.org/dc/elements/1.1/\" xmlns:inkscape=\"http://www.inkscape.org/namespaces/inkscape\" xmlns:ns0=\"http://www.iki.fi/pav/software/textext/\" xmlns:rdf=\"http://www.w3.org/1999/02/22-rdf-syntax-ns#\" xmlns:sodipodi=\"http://sodipodi.sourceforge.net/DTD/sodipodi-0.dtd\" xmlns:svg=\"http://www.w3.org/2000/svg\" xmlns:xlink=\"http://www.w3.org/1999/xlink\">\n",
        "  <sodipodi:namedview bordercolor=\"#666666\" borderopacity=\"1.0\" id=\"base\" inkscape:current-layer=\"layer1\" inkscape:cx=\"180\" inkscape:cy=\"135\" inkscape:document-units=\"px\" inkscape:pageopacity=\"0.0\" inkscape:pageshadow=\"2\" inkscape:window-height=\"744\" inkscape:window-maximized=\"1\" inkscape:window-width=\"1366\" inkscape:window-x=\"0\" inkscape:window-y=\"24\" inkscape:zoom=\"2.0925926\" pagecolor=\"#ffffff\" showgrid=\"false\" units=\"in\"/>\n",
        "  <defs id=\"defs4\">\n",
        "    <marker id=\"Arrow1Send\" inkscape:stockid=\"Arrow1Send\" orient=\"auto\" refX=\"0\" refY=\"0\" style=\"overflow:visible\">\n",
        "      <path d=\"M 0,0 5,-5 -12.5,0 5,5 0,0 z\" id=\"path4056\" inkscape:connector-curvature=\"0\" style=\"fill-rule:evenodd;stroke:#000000;stroke-width:1pt\" transform=\"matrix(-0.2,0,0,-0.2,-1.2,0)\"/>\n",
        "    </marker>\n",
        "    <marker id=\"Arrow1Sstart\" inkscape:stockid=\"Arrow1Sstart\" orient=\"auto\" refX=\"0\" refY=\"0\" style=\"overflow:visible\">\n",
        "      <path d=\"M 0,0 5,-5 -12.5,0 5,5 0,0 z\" id=\"path4053\" inkscape:connector-curvature=\"0\" style=\"fill-rule:evenodd;stroke:#000000;stroke-width:1pt\" transform=\"matrix(0.2,0,0,0.2,1.2,0)\"/>\n",
        "    </marker>\n",
        "    <marker id=\"Arrow1Mend\" inkscape:stockid=\"Arrow1Mend\" orient=\"auto\" refX=\"0\" refY=\"0\" style=\"overflow:visible\">\n",
        "      <path d=\"M 0,0 5,-5 -12.5,0 5,5 0,0 z\" id=\"path4050\" inkscape:connector-curvature=\"0\" style=\"fill-rule:evenodd;stroke:#000000;stroke-width:1pt\" transform=\"matrix(-0.4,0,0,-0.4,-4,0)\"/>\n",
        "    </marker>\n",
        "    <marker id=\"Arrow1Mstart\" inkscape:stockid=\"Arrow1Mstart\" orient=\"auto\" refX=\"0\" refY=\"0\" style=\"overflow:visible\">\n",
        "      <path d=\"M 0,0 5,-5 -12.5,0 5,5 0,0 z\" id=\"path4047\" inkscape:connector-curvature=\"0\" style=\"fill-rule:evenodd;stroke:#000000;stroke-width:1pt\" transform=\"matrix(0.4,0,0,0.4,4,0)\"/>\n",
        "    </marker>\n",
        "    <marker id=\"Arrow1Sstart-7\" inkscape:stockid=\"Arrow1Sstart\" orient=\"auto\" refX=\"0\" refY=\"0\" style=\"overflow:visible\">\n",
        "      <path d=\"M 0,0 5,-5 -12.5,0 5,5 0,0 z\" id=\"path4053-9\" inkscape:connector-curvature=\"0\" style=\"fill-rule:evenodd;stroke:#000000;stroke-width:1pt\" transform=\"matrix(0.2,0,0,0.2,1.2,0)\"/>\n",
        "    </marker>\n",
        "    <marker id=\"Arrow1Sstart-8\" inkscape:stockid=\"Arrow1Sstart\" orient=\"auto\" refX=\"0\" refY=\"0\" style=\"overflow:visible\">\n",
        "      <path d=\"M 0,0 5,-5 -12.5,0 5,5 0,0 z\" id=\"path4053-98\" inkscape:connector-curvature=\"0\" style=\"fill-rule:evenodd;stroke:#000000;stroke-width:1pt\" transform=\"matrix(0.2,0,0,0.2,1.2,0)\"/>\n",
        "    </marker>\n",
        "  </defs>\n",
        "  <metadata id=\"metadata7\">\n",
        "    <rdf:RDF>\n",
        "      <cc:Work rdf:about=\"\">\n",
        "        <dc:format>image/svg+xml</dc:format>\n",
        "        <dc:type rdf:resource=\"http://purl.org/dc/dcmitype/StillImage\"/>\n",
        "        <dc:title/>\n",
        "      </cc:Work>\n",
        "    </rdf:RDF>\n",
        "  </metadata>\n",
        "  <g id=\"layer1\" inkscape:groupmode=\"layer\" inkscape:label=\"Layer 1\" transform=\"translate(0,-782.35975)\">\n",
        "    <rect height=\"20.389381\" id=\"rect2985\" style=\"fill:#ff0000;fill-opacity:1;stroke:#000000;stroke-width:2;stroke-linecap:round;stroke-linejoin:round;stroke-miterlimit:4;stroke-opacity:1;stroke-dasharray:none;stroke-dashoffset:0\" width=\"95.575218\" x=\"133.11505\" y=\"991.19159\"/>\n",
        "    <path d=\"m 73.840708,1002.0235 -50.336283,0 0,-50.33631\" id=\"path2989\" inkscape:connector-curvature=\"0\" style=\"fill:none;stroke:#000000;stroke-width:1px;stroke-linecap:butt;stroke-linejoin:miter;stroke-opacity:1;marker-start:url(#Arrow1Mstart);marker-end:url(#Arrow1Mend)\"/>\n",
        "    <path d=\"m 181.57522,1001.3863 72.53954,-41.88072\" id=\"path2993\" inkscape:connector-curvature=\"0\" style=\"fill:none;stroke:#0000ff;stroke-width:2;stroke-linecap:butt;stroke-linejoin:miter;stroke-miterlimit:4;stroke-opacity:1;stroke-dasharray:none\"/>\n",
        "    <path d=\"m 254.3275,959.24943 54.56622,-63.54926\" id=\"path2993-2\" inkscape:connector-curvature=\"0\" style=\"fill:none;stroke:#0000ff;stroke-width:2;stroke-linecap:butt;stroke-linejoin:miter;stroke-miterlimit:4;stroke-opacity:1;stroke-dasharray:2, 2;stroke-dashoffset:0\"/>\n",
        "    <path d=\"m 309.06598,895.13259 17.72644,-81.86424\" id=\"path2993-6\" inkscape:connector-curvature=\"0\" style=\"fill:none;stroke:#0000ff;stroke-width:2;stroke-linecap:butt;stroke-linejoin:miter;stroke-miterlimit:4;stroke-opacity:1;stroke-dasharray:none\"/>\n",
        "    <path d=\"m 89.840708,151.00885 a 14.336283,14.654867 0 1 1 -28.672566,0 14.336283,14.654867 0 1 1 28.672566,0 z\" id=\"path3020\" sodipodi:cx=\"75.504425\" sodipodi:cy=\"151.00885\" sodipodi:rx=\"14.336283\" sodipodi:ry=\"14.654867\" sodipodi:type=\"arc\" style=\"fill:#0000ff;fill-opacity:1;stroke:none\" transform=\"matrix(0.52314816,0,0,0.51177538,214.53296,882.26204)\"/>\n",
        "    <path d=\"m 190.98476,1002.0235 56.70796,0\" id=\"path3022\" inkscape:connector-curvature=\"0\" sodipodi:nodetypes=\"cc\" style=\"fill:none;stroke:#000000;stroke-width:1;stroke-linecap:butt;stroke-linejoin:miter;stroke-miterlimit:4;stroke-opacity:1;stroke-dasharray:3, 3;stroke-dashoffset:0\"/>\n",
        "    <path d=\"m 264.58043,960.83281 41.36951,0\" id=\"path3024\" inkscape:connector-curvature=\"0\" sodipodi:nodetypes=\"cc\" style=\"fill:none;stroke:#000000;stroke-width:1;stroke-linecap:butt;stroke-linejoin:miter;stroke-miterlimit:4;stroke-opacity:1;stroke-dasharray:3, 3;stroke-dashoffset:0;marker-start:none\"/>\n",
        "    <path d=\"m 318.86894,896.40815 19.07525,0\" id=\"path3026\" inkscape:connector-curvature=\"0\" sodipodi:nodetypes=\"cc\" style=\"fill:none;stroke:#000000;stroke-width:1;stroke-linecap:butt;stroke-linejoin:miter;stroke-miterlimit:4;stroke-opacity:1;stroke-dasharray:3, 3;stroke-dashoffset:0\"/>\n",
        "    <path d=\"m 89.840708,151.00885 a 14.336283,14.654867 0 1 1 -28.672566,0 14.336283,14.654867 0 1 1 28.672566,0 z\" id=\"path3020-0\" sodipodi:cx=\"75.504425\" sodipodi:cy=\"151.00885\" sodipodi:rx=\"14.336283\" sodipodi:ry=\"14.654867\" sodipodi:type=\"arc\" style=\"fill:#0000ff;fill-opacity:1;stroke:none\" transform=\"matrix(0.52314816,0,0,0.51177538,142.46306,924.42824)\"/>\n",
        "    <path d=\"m 89.840708,151.00885 a 14.336283,14.654867 0 1 1 -28.672566,0 14.336283,14.654867 0 1 1 28.672566,0 z\" id=\"path3020-7\" sodipodi:cx=\"75.504425\" sodipodi:cy=\"151.00885\" sodipodi:rx=\"14.336283\" sodipodi:ry=\"14.654867\" sodipodi:type=\"arc\" style=\"fill:#0000ff;fill-opacity:1;stroke:none\" transform=\"matrix(0.52314816,0,0,0.51177538,268.84119,819.0005)\"/>\n",
        "    <path d=\"m 89.840708,151.00885 a 14.336283,14.654867 0 1 1 -28.672566,0 14.336283,14.654867 0 1 1 28.672566,0 z\" id=\"path3020-06\" sodipodi:cx=\"75.504425\" sodipodi:cy=\"151.00885\" sodipodi:rx=\"14.336283\" sodipodi:ry=\"14.654867\" sodipodi:type=\"arc\" style=\"fill:#0000ff;fill-opacity:1;stroke:none\" transform=\"matrix(0.52314816,0,0,0.51177538,287.53884,736.77587)\"/>\n",
        "    <g id=\"g4707\" ns0:preamble=\"\" ns0:text=\"$O$\" transform=\"translate(-209.76468,875.86895)\">\n",
        "      <defs id=\"defs4709\">\n",
        "        <g id=\"g4711\">\n",
        "          <symbol id=\"textext-d3625bf8-0\" overflow=\"visible\" style=\"overflow:visible\">\n",
        "            <path d=\"\" id=\"path4714\" inkscape:connector-curvature=\"0\" style=\"stroke:none\"/>\n",
        "          </symbol>\n",
        "          <symbol id=\"textext-d3625bf8-1\" overflow=\"visible\" style=\"overflow:visible\">\n",
        "            <path d=\"m 7.375,-4.34375 c 0,-1.609375 -1.0625,-2.6875 -2.546875,-2.6875 -2.140625,0 -4.34375,2.265625 -4.34375,4.59375 0,1.65625 1.125,2.65625 2.5625,2.65625 2.109375,0 4.328125,-2.1875 4.328125,-4.5625 z m -4.28125,4.296875 c -0.984375,0 -1.671875,-0.796875 -1.671875,-2.109375 0,-0.453125 0.140625,-1.90625 0.90625,-3.0625 0.6875,-1.046875 1.65625,-1.5625 2.453125,-1.5625 0.8125,0 1.703125,0.5625 1.703125,2.046875 0,0.71875 -0.265625,2.265625 -1.25,3.5 C 4.75,-0.625 3.9375,-0.046875 3.09375,-0.046875 z\" id=\"path4717\" inkscape:connector-curvature=\"0\" style=\"stroke:none\"/>\n",
        "          </symbol>\n",
        "        </g>\n",
        "      </defs>\n",
        "      <g id=\"textext-d3625bf8-2\">\n",
        "        <g id=\"g4720\" style=\"fill:#000000;fill-opacity:1\">\n",
        "          <use height=\"360\" id=\"use4722\" width=\"360\" x=\"223.43201\" xlink:href=\"#textext-d3625bf8-1\" y=\"134.765\"/>\n",
        "        </g>\n",
        "      </g>\n",
        "    </g>\n",
        "    <g id=\"g4784\" ns0:preamble=\"\" ns0:text=\"$q_0$\" transform=\"translate(-126.10822,898.97412)\">\n",
        "      <defs id=\"defs4786\">\n",
        "        <g id=\"g4788\">\n",
        "          <symbol id=\"textext-7b8382d5-0\" overflow=\"visible\" style=\"overflow:visible\">\n",
        "            <path d=\"\" id=\"path4791\" inkscape:connector-curvature=\"0\" style=\"stroke:none\"/>\n",
        "          </symbol>\n",
        "          <symbol id=\"textext-7b8382d5-1\" overflow=\"visible\" style=\"overflow:visible\">\n",
        "            <path d=\"m 4.5,-4.296875 c 0,-0.046875 -0.03125,-0.09375 -0.09375,-0.09375 -0.109375,0 -0.515625,0.390625 -0.671875,0.6875 C 3.515625,-4.25 3.125,-4.40625 2.796875,-4.40625 c -1.171875,0 -2.390625,1.46875 -2.390625,2.921875 0,0.96875 0.578125,1.59375 1.3125,1.59375 0.421875,0 0.8125,-0.234375 1.171875,-0.59375 -0.09375,0.34375 -0.421875,1.6875 -0.453125,1.78125 -0.078125,0.28125 -0.15625,0.3125 -0.71875,0.328125 -0.125,0 -0.21875,0 -0.21875,0.203125 0,0 0,0.109375 0.125,0.109375 0.3125,0 0.671875,-0.03125 1,-0.03125 0.328125,0 0.6875,0.03125 1.03125,0.03125 0.046875,0 0.171875,0 0.171875,-0.203125 C 3.828125,1.625 3.734375,1.625 3.5625,1.625 3.09375,1.625 3.09375,1.5625 3.09375,1.46875 3.09375,1.390625 3.109375,1.328125 3.125,1.25 z m -2.75,4.1875 c -0.609375,0 -0.640625,-0.765625 -0.640625,-0.9375 0,-0.484375 0.28125,-1.5625 0.453125,-1.984375 0.3125,-0.734375 0.828125,-1.15625 1.234375,-1.15625 0.65625,0 0.796875,0.8125 0.796875,0.875 0,0.0625 -0.546875,2.25 -0.578125,2.28125 C 2.859375,-0.75 2.296875,-0.109375 1.75,-0.109375 z\" id=\"path4794\" inkscape:connector-curvature=\"0\" style=\"stroke:none\"/>\n",
        "          </symbol>\n",
        "          <symbol id=\"textext-7b8382d5-2\" overflow=\"visible\" style=\"overflow:visible\">\n",
        "            <path d=\"\" id=\"path4797\" inkscape:connector-curvature=\"0\" style=\"stroke:none\"/>\n",
        "          </symbol>\n",
        "          <symbol id=\"textext-7b8382d5-3\" overflow=\"visible\" style=\"overflow:visible\">\n",
        "            <path d=\"M 3.59375,-2.21875 C 3.59375,-2.984375 3.5,-3.546875 3.1875,-4.03125 2.96875,-4.34375 2.53125,-4.625 1.984375,-4.625 c -1.625,0 -1.625,1.90625 -1.625,2.40625 0,0.5 0,2.359375 1.625,2.359375 1.609375,0 1.609375,-1.859375 1.609375,-2.359375 z M 1.984375,-0.0625 c -0.328125,0 -0.75,-0.1875 -0.890625,-0.75 C 1,-1.21875 1,-1.796875 1,-2.3125 1,-2.828125 1,-3.359375 1.09375,-3.734375 1.25,-4.28125 1.6875,-4.4375 1.984375,-4.4375 c 0.375,0 0.734375,0.234375 0.859375,0.640625 0.109375,0.375 0.125,0.875 0.125,1.484375 0,0.515625 0,1.03125 -0.09375,1.46875 -0.140625,0.640625 -0.609375,0.78125 -0.890625,0.78125 z\" id=\"path4800\" inkscape:connector-curvature=\"0\" style=\"stroke:none\"/>\n",
        "          </symbol>\n",
        "        </g>\n",
        "      </defs>\n",
        "      <g id=\"textext-7b8382d5-4\">\n",
        "        <g id=\"g4803\" style=\"fill:#000000;fill-opacity:1\">\n",
        "          <use height=\"360\" id=\"use4805\" width=\"360\" x=\"223.43201\" xlink:href=\"#textext-7b8382d5-1\" y=\"134.765\"/>\n",
        "        </g>\n",
        "        <g id=\"g4807\" style=\"fill:#000000;fill-opacity:1\">\n",
        "          <use height=\"360\" id=\"use4809\" width=\"360\" x=\"227.88\" xlink:href=\"#textext-7b8382d5-3\" y=\"136.259\"/>\n",
        "        </g>\n",
        "      </g>\n",
        "    </g>\n",
        "    <g id=\"g4903\" ns0:preamble=\"\" ns0:text=\"$q_1$\" transform=\"translate(19.808969,851.4691)\">\n",
        "      <defs id=\"defs4905\">\n",
        "        <g id=\"g4907\">\n",
        "          <symbol id=\"textext-d862ba06-0\" overflow=\"visible\" style=\"overflow:visible\">\n",
        "            <path d=\"\" id=\"path4910\" inkscape:connector-curvature=\"0\" style=\"stroke:none\"/>\n",
        "          </symbol>\n",
        "          <symbol id=\"textext-d862ba06-1\" overflow=\"visible\" style=\"overflow:visible\">\n",
        "            <path d=\"m 4.5,-4.296875 c 0,-0.046875 -0.03125,-0.09375 -0.09375,-0.09375 -0.109375,0 -0.515625,0.390625 -0.671875,0.6875 C 3.515625,-4.25 3.125,-4.40625 2.796875,-4.40625 c -1.171875,0 -2.390625,1.46875 -2.390625,2.921875 0,0.96875 0.578125,1.59375 1.3125,1.59375 0.421875,0 0.8125,-0.234375 1.171875,-0.59375 -0.09375,0.34375 -0.421875,1.6875 -0.453125,1.78125 -0.078125,0.28125 -0.15625,0.3125 -0.71875,0.328125 -0.125,0 -0.21875,0 -0.21875,0.203125 0,0 0,0.109375 0.125,0.109375 0.3125,0 0.671875,-0.03125 1,-0.03125 0.328125,0 0.6875,0.03125 1.03125,0.03125 0.046875,0 0.171875,0 0.171875,-0.203125 C 3.828125,1.625 3.734375,1.625 3.5625,1.625 3.09375,1.625 3.09375,1.5625 3.09375,1.46875 3.09375,1.390625 3.109375,1.328125 3.125,1.25 z m -2.75,4.1875 c -0.609375,0 -0.640625,-0.765625 -0.640625,-0.9375 0,-0.484375 0.28125,-1.5625 0.453125,-1.984375 0.3125,-0.734375 0.828125,-1.15625 1.234375,-1.15625 0.65625,0 0.796875,0.8125 0.796875,0.875 0,0.0625 -0.546875,2.25 -0.578125,2.28125 C 2.859375,-0.75 2.296875,-0.109375 1.75,-0.109375 z\" id=\"path4913\" inkscape:connector-curvature=\"0\" style=\"stroke:none\"/>\n",
        "          </symbol>\n",
        "          <symbol id=\"textext-d862ba06-2\" overflow=\"visible\" style=\"overflow:visible\">\n",
        "            <path d=\"\" id=\"path4916\" inkscape:connector-curvature=\"0\" style=\"stroke:none\"/>\n",
        "          </symbol>\n",
        "          <symbol id=\"textext-d862ba06-3\" overflow=\"visible\" style=\"overflow:visible\">\n",
        "            <path d=\"m 2.328125,-4.4375 c 0,-0.1875 0,-0.1875 -0.203125,-0.1875 -0.453125,0.4375 -1.078125,0.4375 -1.359375,0.4375 l 0,0.25 c 0.15625,0 0.625,0 1,-0.1875 l 0,3.546875 c 0,0.234375 0,0.328125 -0.6875,0.328125 l -0.265625,0 0,0.25 c 0.125,0 0.984375,-0.03125 1.234375,-0.03125 0.21875,0 1.09375,0.03125 1.25,0.03125 l 0,-0.25 -0.265625,0 c -0.703125,0 -0.703125,-0.09375 -0.703125,-0.328125 z\" id=\"path4919\" inkscape:connector-curvature=\"0\" style=\"stroke:none\"/>\n",
        "          </symbol>\n",
        "        </g>\n",
        "      </defs>\n",
        "      <g id=\"textext-d862ba06-4\">\n",
        "        <g id=\"g4922\" style=\"fill:#000000;fill-opacity:1\">\n",
        "          <use height=\"360\" id=\"use4924\" width=\"360\" x=\"223.43201\" xlink:href=\"#textext-d862ba06-1\" y=\"134.765\"/>\n",
        "        </g>\n",
        "        <g id=\"g4926\" style=\"fill:#000000;fill-opacity:1\">\n",
        "          <use height=\"360\" id=\"use4928\" width=\"360\" x=\"227.88\" xlink:href=\"#textext-d862ba06-3\" y=\"136.259\"/>\n",
        "        </g>\n",
        "      </g>\n",
        "    </g>\n",
        "    <g id=\"g5054\" ns0:preamble=\"\" ns0:text=\"$q_2$\" transform=\"translate(75.774552,807.35558)\">\n",
        "      <defs id=\"defs5056\">\n",
        "        <g id=\"g5058\">\n",
        "          <symbol id=\"textext-726c0b90-0\" overflow=\"visible\" style=\"overflow:visible\">\n",
        "            <path d=\"\" id=\"path5061\" inkscape:connector-curvature=\"0\" style=\"stroke:none\"/>\n",
        "          </symbol>\n",
        "          <symbol id=\"textext-726c0b90-1\" overflow=\"visible\" style=\"overflow:visible\">\n",
        "            <path d=\"m 4.5,-4.296875 c 0,-0.046875 -0.03125,-0.09375 -0.09375,-0.09375 -0.109375,0 -0.515625,0.390625 -0.671875,0.6875 C 3.515625,-4.25 3.125,-4.40625 2.796875,-4.40625 c -1.171875,0 -2.390625,1.46875 -2.390625,2.921875 0,0.96875 0.578125,1.59375 1.3125,1.59375 0.421875,0 0.8125,-0.234375 1.171875,-0.59375 -0.09375,0.34375 -0.421875,1.6875 -0.453125,1.78125 -0.078125,0.28125 -0.15625,0.3125 -0.71875,0.328125 -0.125,0 -0.21875,0 -0.21875,0.203125 0,0 0,0.109375 0.125,0.109375 0.3125,0 0.671875,-0.03125 1,-0.03125 0.328125,0 0.6875,0.03125 1.03125,0.03125 0.046875,0 0.171875,0 0.171875,-0.203125 C 3.828125,1.625 3.734375,1.625 3.5625,1.625 3.09375,1.625 3.09375,1.5625 3.09375,1.46875 3.09375,1.390625 3.109375,1.328125 3.125,1.25 z m -2.75,4.1875 c -0.609375,0 -0.640625,-0.765625 -0.640625,-0.9375 0,-0.484375 0.28125,-1.5625 0.453125,-1.984375 0.3125,-0.734375 0.828125,-1.15625 1.234375,-1.15625 0.65625,0 0.796875,0.8125 0.796875,0.875 0,0.0625 -0.546875,2.25 -0.578125,2.28125 C 2.859375,-0.75 2.296875,-0.109375 1.75,-0.109375 z\" id=\"path5064\" inkscape:connector-curvature=\"0\" style=\"stroke:none\"/>\n",
        "          </symbol>\n",
        "          <symbol id=\"textext-726c0b90-2\" overflow=\"visible\" style=\"overflow:visible\">\n",
        "            <path d=\"\" id=\"path5067\" inkscape:connector-curvature=\"0\" style=\"stroke:none\"/>\n",
        "          </symbol>\n",
        "          <symbol id=\"textext-726c0b90-3\" overflow=\"visible\" style=\"overflow:visible\">\n",
        "            <path d=\"m 3.515625,-1.265625 -0.234375,0 c -0.015625,0.15625 -0.09375,0.5625 -0.1875,0.625 -0.046875,0.046875 -0.578125,0.046875 -0.6875,0.046875 l -1.28125,0 c 0.734375,-0.640625 0.984375,-0.84375 1.390625,-1.171875 0.515625,-0.40625 1,-0.84375 1,-1.5 0,-0.84375 -0.734375,-1.359375 -1.625,-1.359375 -0.859375,0 -1.453125,0.609375 -1.453125,1.25 0,0.34375 0.296875,0.390625 0.375,0.390625 0.15625,0 0.359375,-0.125 0.359375,-0.375 0,-0.125 -0.046875,-0.375 -0.40625,-0.375 C 0.984375,-4.21875 1.453125,-4.375 1.78125,-4.375 c 0.703125,0 1.0625,0.546875 1.0625,1.109375 0,0.609375 -0.4375,1.078125 -0.65625,1.328125 L 0.515625,-0.265625 C 0.4375,-0.203125 0.4375,-0.1875 0.4375,0 l 2.875,0 z\" id=\"path5070\" inkscape:connector-curvature=\"0\" style=\"stroke:none\"/>\n",
        "          </symbol>\n",
        "        </g>\n",
        "      </defs>\n",
        "      <g id=\"textext-726c0b90-4\">\n",
        "        <g id=\"g5073\" style=\"fill:#000000;fill-opacity:1\">\n",
        "          <use height=\"360\" id=\"use5075\" width=\"360\" x=\"223.43201\" xlink:href=\"#textext-726c0b90-1\" y=\"134.765\"/>\n",
        "        </g>\n",
        "        <g id=\"g5077\" style=\"fill:#000000;fill-opacity:1\">\n",
        "          <use height=\"360\" id=\"use5079\" width=\"360\" x=\"227.88\" xlink:href=\"#textext-726c0b90-3\" y=\"136.259\"/>\n",
        "        </g>\n",
        "      </g>\n",
        "    </g>\n",
        "    <g id=\"g5237\" ns0:preamble=\"\" ns0:text=\"$q_{n+1}$\" transform=\"translate(108.23379,742.30109)\">\n",
        "      <defs id=\"defs5239\">\n",
        "        <g id=\"g5241\">\n",
        "          <symbol id=\"textext-fcfaf03e-0\" overflow=\"visible\" style=\"overflow:visible\">\n",
        "            <path d=\"\" id=\"path5244\" inkscape:connector-curvature=\"0\" style=\"stroke:none\"/>\n",
        "          </symbol>\n",
        "          <symbol id=\"textext-fcfaf03e-1\" overflow=\"visible\" style=\"overflow:visible\">\n",
        "            <path d=\"m 4.5,-4.296875 c 0,-0.046875 -0.03125,-0.09375 -0.09375,-0.09375 -0.109375,0 -0.515625,0.390625 -0.671875,0.6875 C 3.515625,-4.25 3.125,-4.40625 2.796875,-4.40625 c -1.171875,0 -2.390625,1.46875 -2.390625,2.921875 0,0.96875 0.578125,1.59375 1.3125,1.59375 0.421875,0 0.8125,-0.234375 1.171875,-0.59375 -0.09375,0.34375 -0.421875,1.6875 -0.453125,1.78125 -0.078125,0.28125 -0.15625,0.3125 -0.71875,0.328125 -0.125,0 -0.21875,0 -0.21875,0.203125 0,0 0,0.109375 0.125,0.109375 0.3125,0 0.671875,-0.03125 1,-0.03125 0.328125,0 0.6875,0.03125 1.03125,0.03125 0.046875,0 0.171875,0 0.171875,-0.203125 C 3.828125,1.625 3.734375,1.625 3.5625,1.625 3.09375,1.625 3.09375,1.5625 3.09375,1.46875 3.09375,1.390625 3.109375,1.328125 3.125,1.25 z m -2.75,4.1875 c -0.609375,0 -0.640625,-0.765625 -0.640625,-0.9375 0,-0.484375 0.28125,-1.5625 0.453125,-1.984375 0.3125,-0.734375 0.828125,-1.15625 1.234375,-1.15625 0.65625,0 0.796875,0.8125 0.796875,0.875 0,0.0625 -0.546875,2.25 -0.578125,2.28125 C 2.859375,-0.75 2.296875,-0.109375 1.75,-0.109375 z\" id=\"path5247\" inkscape:connector-curvature=\"0\" style=\"stroke:none\"/>\n",
        "          </symbol>\n",
        "          <symbol id=\"textext-fcfaf03e-2\" overflow=\"visible\" style=\"overflow:visible\">\n",
        "            <path d=\"\" id=\"path5250\" inkscape:connector-curvature=\"0\" style=\"stroke:none\"/>\n",
        "          </symbol>\n",
        "          <symbol id=\"textext-fcfaf03e-3\" overflow=\"visible\" style=\"overflow:visible\">\n",
        "            <path d=\"m 0.84375,-0.4375 c -0.015625,0.09375 -0.0625,0.265625 -0.0625,0.28125 0,0.15625 0.125,0.21875 0.234375,0.21875 0.125,0 0.234375,-0.078125 0.28125,-0.140625 0.03125,-0.0625 0.078125,-0.296875 0.125,-0.4375 0.03125,-0.125 0.109375,-0.453125 0.140625,-0.625 0.046875,-0.15625 0.09375,-0.3125 0.125,-0.46875 0.078125,-0.28125 0.09375,-0.34375 0.296875,-0.625 C 2.171875,-2.515625 2.5,-2.875 3.03125,-2.875 c 0.390625,0 0.40625,0.359375 0.40625,0.484375 0,0.421875 -0.296875,1.1875 -0.40625,1.484375 -0.078125,0.203125 -0.109375,0.265625 -0.109375,0.375 0,0.375 0.296875,0.59375 0.65625,0.59375 0.703125,0 1,-0.953125 1,-1.0625 0,-0.09375 -0.078125,-0.09375 -0.109375,-0.09375 -0.09375,0 -0.09375,0.046875 -0.125,0.125 C 4.1875,-0.40625 3.875,-0.125 3.609375,-0.125 c -0.15625,0 -0.1875,-0.09375 -0.1875,-0.25 0,-0.15625 0.046875,-0.25 0.171875,-0.5625 0.078125,-0.21875 0.359375,-0.953125 0.359375,-1.34375 0,-0.671875 -0.53125,-0.796875 -0.90625,-0.796875 -0.578125,0 -0.96875,0.359375 -1.171875,0.640625 -0.046875,-0.484375 -0.453125,-0.640625 -0.75,-0.640625 -0.296875,0 -0.453125,0.21875 -0.546875,0.375 -0.15625,0.265625 -0.25,0.65625 -0.25,0.703125 0,0.078125 0.09375,0.078125 0.125,0.078125 0.09375,0 0.09375,-0.015625 0.140625,-0.203125 0.109375,-0.40625 0.25,-0.75 0.515625,-0.75 0.1875,0 0.234375,0.15625 0.234375,0.34375 0,0.125 -0.0625,0.390625 -0.125,0.578125 -0.046875,0.1875 -0.109375,0.46875 -0.140625,0.625 z\" id=\"path5253\" inkscape:connector-curvature=\"0\" style=\"stroke:none\"/>\n",
        "          </symbol>\n",
        "          <symbol id=\"textext-fcfaf03e-4\" overflow=\"visible\" style=\"overflow:visible\">\n",
        "            <path d=\"\" id=\"path5256\" inkscape:connector-curvature=\"0\" style=\"stroke:none\"/>\n",
        "          </symbol>\n",
        "          <symbol id=\"textext-fcfaf03e-5\" overflow=\"visible\" style=\"overflow:visible\">\n",
        "            <path d=\"m 3.21875,-1.578125 2.140625,0 c 0.09375,0 0.25,0 0.25,-0.15625 0,-0.1875 -0.15625,-0.1875 -0.25,-0.1875 l -2.140625,0 0,-2.140625 c 0,-0.078125 0,-0.25 -0.15625,-0.25 -0.171875,0 -0.171875,0.15625 -0.171875,0.25 l 0,2.140625 -2.140625,0 c -0.09375,0 -0.265625,0 -0.265625,0.171875 0,0.171875 0.15625,0.171875 0.265625,0.171875 l 2.140625,0 0,2.140625 c 0,0.09375 0,0.265625 0.15625,0.265625 0.171875,0 0.171875,-0.171875 0.171875,-0.265625 z\" id=\"path5259\" inkscape:connector-curvature=\"0\" style=\"stroke:none\"/>\n",
        "          </symbol>\n",
        "          <symbol id=\"textext-fcfaf03e-6\" overflow=\"visible\" style=\"overflow:visible\">\n",
        "            <path d=\"m 2.328125,-4.4375 c 0,-0.1875 0,-0.1875 -0.203125,-0.1875 -0.453125,0.4375 -1.078125,0.4375 -1.359375,0.4375 l 0,0.25 c 0.15625,0 0.625,0 1,-0.1875 l 0,3.546875 c 0,0.234375 0,0.328125 -0.6875,0.328125 l -0.265625,0 0,0.25 c 0.125,0 0.984375,-0.03125 1.234375,-0.03125 0.21875,0 1.09375,0.03125 1.25,0.03125 l 0,-0.25 -0.265625,0 c -0.703125,0 -0.703125,-0.09375 -0.703125,-0.328125 z\" id=\"path5262\" inkscape:connector-curvature=\"0\" style=\"stroke:none\"/>\n",
        "          </symbol>\n",
        "        </g>\n",
        "      </defs>\n",
        "      <g id=\"textext-fcfaf03e-7\">\n",
        "        <g id=\"g5265\" style=\"fill:#000000;fill-opacity:1\">\n",
        "          <use height=\"360\" id=\"use5267\" width=\"360\" x=\"223.43201\" xlink:href=\"#textext-fcfaf03e-1\" y=\"134.765\"/>\n",
        "        </g>\n",
        "        <g id=\"g5269\" style=\"fill:#000000;fill-opacity:1\">\n",
        "          <use height=\"360\" id=\"use5271\" width=\"360\" x=\"227.88\" xlink:href=\"#textext-fcfaf03e-3\" y=\"136.259\"/>\n",
        "        </g>\n",
        "        <g id=\"g5273\" style=\"fill:#000000;fill-opacity:1\">\n",
        "          <use height=\"360\" id=\"use5275\" width=\"360\" x=\"232.804\" xlink:href=\"#textext-fcfaf03e-5\" y=\"136.259\"/>\n",
        "          <use height=\"360\" id=\"use5277\" width=\"360\" x=\"238.92003\" xlink:href=\"#textext-fcfaf03e-6\" y=\"136.259\"/>\n",
        "        </g>\n",
        "      </g>\n",
        "    </g>\n",
        "    <path d=\"m 122.76541,131.92575 a 38.230087,39.185841 0 0 1 4.66698,18.45013\" id=\"path5381\" sodipodi:cx=\"89.203537\" sodipodi:cy=\"150.69026\" sodipodi:end=\"6.2751625\" sodipodi:open=\"true\" sodipodi:rx=\"38.230087\" sodipodi:ry=\"39.185841\" sodipodi:start=\"5.7838302\" sodipodi:type=\"arc\" style=\"fill:none;stroke:#000000;stroke-width:0.68079019;stroke-miterlimit:4;stroke-opacity:1;stroke-dasharray:none;marker-start:url(#Arrow1Sstart)\" transform=\"matrix(1.4871292,0,0,1.4508575,49.30588,783.08076)\"/>\n",
        "    <path d=\"m 115.95234,122.69366 a 38.230087,39.185841 0 0 1 11.48042,28.25973\" id=\"path5381-2\" sodipodi:cx=\"89.203537\" sodipodi:cy=\"150.69026\" sodipodi:end=\"6.2899002\" sodipodi:open=\"true\" sodipodi:rx=\"38.230087\" sodipodi:ry=\"39.185841\" sodipodi:start=\"5.4873376\" sodipodi:type=\"arc\" style=\"fill:none;stroke:#000000;stroke-width:0.85336822;stroke-miterlimit:4;stroke-opacity:1;stroke-dasharray:none;marker-start:url(#Arrow1Sstart)\" transform=\"matrix(1.1863846,0,0,1.1574482,147.87429,785.12848)\"/>\n",
        "    <path d=\"m 101.40416,113.5535 a 38.230087,39.185841 0 0 1 26.02194,36.35929\" id=\"path5381-26\" sodipodi:cx=\"89.203537\" sodipodi:cy=\"150.69026\" sodipodi:end=\"6.2633433\" sodipodi:open=\"true\" sodipodi:rx=\"38.230087\" sodipodi:ry=\"39.185841\" sodipodi:start=\"5.0372073\" sodipodi:type=\"arc\" style=\"fill:none;stroke:#000000;stroke-width:1.46858275;stroke-miterlimit:4;stroke-opacity:1;stroke-dasharray:none;marker-start:url(#Arrow1Sstart)\" transform=\"matrix(0.68938773,0,0,0.67257328,246.65421,794.93287)\"/>\n",
        "    <g id=\"g6087\" ns0:preamble=\"\" ns0:text=\"$m_0$\" transform=\"translate(-63.95156,864.12085)\">\n",
        "      <defs id=\"defs6089\">\n",
        "        <g id=\"g6091\">\n",
        "          <symbol id=\"textext-998f6c43-0\" overflow=\"visible\" style=\"overflow:visible\">\n",
        "            <path d=\"\" id=\"path6094\" inkscape:connector-curvature=\"0\" style=\"stroke:none\"/>\n",
        "          </symbol>\n",
        "          <symbol id=\"textext-998f6c43-1\" overflow=\"visible\" style=\"overflow:visible\">\n",
        "            <path d=\"m 0.875,-0.59375 c -0.03125,0.15625 -0.09375,0.390625 -0.09375,0.4375 0,0.171875 0.140625,0.265625 0.296875,0.265625 0.125,0 0.296875,-0.078125 0.375,-0.28125 0,-0.015625 0.125,-0.484375 0.1875,-0.734375 l 0.21875,-0.890625 C 1.90625,-2.03125 1.96875,-2.25 2.03125,-2.46875 c 0.03125,-0.171875 0.109375,-0.46875 0.125,-0.5 0.140625,-0.3125 0.671875,-1.21875 1.625,-1.21875 0.453125,0 0.53125,0.375 0.53125,0.703125 0,0.25 -0.0625,0.53125 -0.140625,0.828125 L 3.890625,-1.5 3.6875,-0.75 c -0.03125,0.203125 -0.125,0.546875 -0.125,0.59375 0,0.171875 0.140625,0.265625 0.28125,0.265625 0.3125,0 0.375,-0.25 0.453125,-0.5625 0.140625,-0.5625 0.515625,-2.015625 0.59375,-2.40625 0.03125,-0.125 0.5625,-1.328125 1.65625,-1.328125 0.421875,0 0.53125,0.34375 0.53125,0.703125 0,0.5625 -0.421875,1.703125 -0.625,2.234375 -0.078125,0.234375 -0.125,0.34375 -0.125,0.546875 0,0.46875 0.34375,0.8125 0.8125,0.8125 0.9375,0 1.3125,-1.453125 1.3125,-1.53125 0,-0.109375 -0.09375,-0.109375 -0.125,-0.109375 -0.09375,0 -0.09375,0.03125 -0.140625,0.1875 -0.15625,0.53125 -0.46875,1.234375 -1.015625,1.234375 -0.171875,0 -0.25,-0.09375 -0.25,-0.328125 0,-0.25 0.09375,-0.484375 0.1875,-0.703125 0.1875,-0.53125 0.609375,-1.625 0.609375,-2.203125 0,-0.640625 -0.40625,-1.0625 -1.15625,-1.0625 -0.734375,0 -1.25,0.4375 -1.625,0.96875 0,-0.125 -0.03125,-0.46875 -0.3125,-0.703125 -0.25,-0.21875 -0.5625,-0.265625 -0.8125,-0.265625 -0.90625,0 -1.390625,0.640625 -1.5625,0.875 -0.046875,-0.578125 -0.46875,-0.875 -0.921875,-0.875 -0.453125,0 -0.640625,0.390625 -0.734375,0.5625 -0.171875,0.359375 -0.296875,0.9375 -0.296875,0.96875 0,0.109375 0.09375,0.109375 0.109375,0.109375 0.109375,0 0.109375,-0.015625 0.171875,-0.234375 0.171875,-0.703125 0.375,-1.1875 0.734375,-1.1875 0.15625,0 0.296875,0.078125 0.296875,0.453125 0,0.21875 -0.03125,0.328125 -0.15625,0.84375 z\" id=\"path6097\" inkscape:connector-curvature=\"0\" style=\"stroke:none\"/>\n",
        "          </symbol>\n",
        "          <symbol id=\"textext-998f6c43-2\" overflow=\"visible\" style=\"overflow:visible\">\n",
        "            <path d=\"\" id=\"path6100\" inkscape:connector-curvature=\"0\" style=\"stroke:none\"/>\n",
        "          </symbol>\n",
        "          <symbol id=\"textext-998f6c43-3\" overflow=\"visible\" style=\"overflow:visible\">\n",
        "            <path d=\"M 3.59375,-2.21875 C 3.59375,-2.984375 3.5,-3.546875 3.1875,-4.03125 2.96875,-4.34375 2.53125,-4.625 1.984375,-4.625 c -1.625,0 -1.625,1.90625 -1.625,2.40625 0,0.5 0,2.359375 1.625,2.359375 1.609375,0 1.609375,-1.859375 1.609375,-2.359375 z M 1.984375,-0.0625 c -0.328125,0 -0.75,-0.1875 -0.890625,-0.75 C 1,-1.21875 1,-1.796875 1,-2.3125 1,-2.828125 1,-3.359375 1.09375,-3.734375 1.25,-4.28125 1.6875,-4.4375 1.984375,-4.4375 c 0.375,0 0.734375,0.234375 0.859375,0.640625 0.109375,0.375 0.125,0.875 0.125,1.484375 0,0.515625 0,1.03125 -0.09375,1.46875 -0.140625,0.640625 -0.609375,0.78125 -0.890625,0.78125 z\" id=\"path6103\" inkscape:connector-curvature=\"0\" style=\"stroke:none\"/>\n",
        "          </symbol>\n",
        "        </g>\n",
        "      </defs>\n",
        "      <g id=\"textext-998f6c43-4\">\n",
        "        <g id=\"g6106\" style=\"fill:#000000;fill-opacity:1\">\n",
        "          <use height=\"360\" id=\"use6108\" width=\"360\" x=\"223.43201\" xlink:href=\"#textext-998f6c43-1\" y=\"134.765\"/>\n",
        "        </g>\n",
        "        <g id=\"g6110\" style=\"fill:#000000;fill-opacity:1\">\n",
        "          <use height=\"360\" id=\"use6112\" width=\"360\" x=\"232.179\" xlink:href=\"#textext-998f6c43-3\" y=\"136.259\"/>\n",
        "        </g>\n",
        "      </g>\n",
        "    </g>\n",
        "    <g id=\"g6370\" ns0:preamble=\"\" ns0:text=\"$m_1$\" transform=\"translate(10.597113,815.69608)\">\n",
        "      <defs id=\"defs6372\">\n",
        "        <g id=\"g6374\">\n",
        "          <symbol id=\"textext-b1060afd-0\" overflow=\"visible\" style=\"overflow:visible\">\n",
        "            <path d=\"\" id=\"path6377\" inkscape:connector-curvature=\"0\" style=\"stroke:none\"/>\n",
        "          </symbol>\n",
        "          <symbol id=\"textext-b1060afd-1\" overflow=\"visible\" style=\"overflow:visible\">\n",
        "            <path d=\"m 0.875,-0.59375 c -0.03125,0.15625 -0.09375,0.390625 -0.09375,0.4375 0,0.171875 0.140625,0.265625 0.296875,0.265625 0.125,0 0.296875,-0.078125 0.375,-0.28125 0,-0.015625 0.125,-0.484375 0.1875,-0.734375 l 0.21875,-0.890625 C 1.90625,-2.03125 1.96875,-2.25 2.03125,-2.46875 c 0.03125,-0.171875 0.109375,-0.46875 0.125,-0.5 0.140625,-0.3125 0.671875,-1.21875 1.625,-1.21875 0.453125,0 0.53125,0.375 0.53125,0.703125 0,0.25 -0.0625,0.53125 -0.140625,0.828125 L 3.890625,-1.5 3.6875,-0.75 c -0.03125,0.203125 -0.125,0.546875 -0.125,0.59375 0,0.171875 0.140625,0.265625 0.28125,0.265625 0.3125,0 0.375,-0.25 0.453125,-0.5625 0.140625,-0.5625 0.515625,-2.015625 0.59375,-2.40625 0.03125,-0.125 0.5625,-1.328125 1.65625,-1.328125 0.421875,0 0.53125,0.34375 0.53125,0.703125 0,0.5625 -0.421875,1.703125 -0.625,2.234375 -0.078125,0.234375 -0.125,0.34375 -0.125,0.546875 0,0.46875 0.34375,0.8125 0.8125,0.8125 0.9375,0 1.3125,-1.453125 1.3125,-1.53125 0,-0.109375 -0.09375,-0.109375 -0.125,-0.109375 -0.09375,0 -0.09375,0.03125 -0.140625,0.1875 -0.15625,0.53125 -0.46875,1.234375 -1.015625,1.234375 -0.171875,0 -0.25,-0.09375 -0.25,-0.328125 0,-0.25 0.09375,-0.484375 0.1875,-0.703125 0.1875,-0.53125 0.609375,-1.625 0.609375,-2.203125 0,-0.640625 -0.40625,-1.0625 -1.15625,-1.0625 -0.734375,0 -1.25,0.4375 -1.625,0.96875 0,-0.125 -0.03125,-0.46875 -0.3125,-0.703125 -0.25,-0.21875 -0.5625,-0.265625 -0.8125,-0.265625 -0.90625,0 -1.390625,0.640625 -1.5625,0.875 -0.046875,-0.578125 -0.46875,-0.875 -0.921875,-0.875 -0.453125,0 -0.640625,0.390625 -0.734375,0.5625 -0.171875,0.359375 -0.296875,0.9375 -0.296875,0.96875 0,0.109375 0.09375,0.109375 0.109375,0.109375 0.109375,0 0.109375,-0.015625 0.171875,-0.234375 0.171875,-0.703125 0.375,-1.1875 0.734375,-1.1875 0.15625,0 0.296875,0.078125 0.296875,0.453125 0,0.21875 -0.03125,0.328125 -0.15625,0.84375 z\" id=\"path6380\" inkscape:connector-curvature=\"0\" style=\"stroke:none\"/>\n",
        "          </symbol>\n",
        "          <symbol id=\"textext-b1060afd-2\" overflow=\"visible\" style=\"overflow:visible\">\n",
        "            <path d=\"\" id=\"path6383\" inkscape:connector-curvature=\"0\" style=\"stroke:none\"/>\n",
        "          </symbol>\n",
        "          <symbol id=\"textext-b1060afd-3\" overflow=\"visible\" style=\"overflow:visible\">\n",
        "            <path d=\"m 2.328125,-4.4375 c 0,-0.1875 0,-0.1875 -0.203125,-0.1875 -0.453125,0.4375 -1.078125,0.4375 -1.359375,0.4375 l 0,0.25 c 0.15625,0 0.625,0 1,-0.1875 l 0,3.546875 c 0,0.234375 0,0.328125 -0.6875,0.328125 l -0.265625,0 0,0.25 c 0.125,0 0.984375,-0.03125 1.234375,-0.03125 0.21875,0 1.09375,0.03125 1.25,0.03125 l 0,-0.25 -0.265625,0 c -0.703125,0 -0.703125,-0.09375 -0.703125,-0.328125 z\" id=\"path6386\" inkscape:connector-curvature=\"0\" style=\"stroke:none\"/>\n",
        "          </symbol>\n",
        "        </g>\n",
        "      </defs>\n",
        "      <g id=\"textext-b1060afd-4\">\n",
        "        <g id=\"g6389\" style=\"fill:#000000;fill-opacity:1\">\n",
        "          <use height=\"360\" id=\"use6391\" width=\"360\" x=\"223.43201\" xlink:href=\"#textext-b1060afd-1\" y=\"134.765\"/>\n",
        "        </g>\n",
        "        <g id=\"g6393\" style=\"fill:#000000;fill-opacity:1\">\n",
        "          <use height=\"360\" id=\"use6395\" width=\"360\" x=\"232.179\" xlink:href=\"#textext-b1060afd-3\" y=\"136.259\"/>\n",
        "        </g>\n",
        "      </g>\n",
        "    </g>\n",
        "    <g id=\"g6685\" ns0:preamble=\"\" ns0:text=\"$m_{n+1}$\" transform=\"translate(70.490918,671.0589)\">\n",
        "      <defs id=\"defs6687\">\n",
        "        <g id=\"g6689\">\n",
        "          <symbol id=\"textext-a452b3d5-0\" overflow=\"visible\" style=\"overflow:visible\">\n",
        "            <path d=\"\" id=\"path6692\" inkscape:connector-curvature=\"0\" style=\"stroke:none\"/>\n",
        "          </symbol>\n",
        "          <symbol id=\"textext-a452b3d5-1\" overflow=\"visible\" style=\"overflow:visible\">\n",
        "            <path d=\"m 0.875,-0.59375 c -0.03125,0.15625 -0.09375,0.390625 -0.09375,0.4375 0,0.171875 0.140625,0.265625 0.296875,0.265625 0.125,0 0.296875,-0.078125 0.375,-0.28125 0,-0.015625 0.125,-0.484375 0.1875,-0.734375 l 0.21875,-0.890625 C 1.90625,-2.03125 1.96875,-2.25 2.03125,-2.46875 c 0.03125,-0.171875 0.109375,-0.46875 0.125,-0.5 0.140625,-0.3125 0.671875,-1.21875 1.625,-1.21875 0.453125,0 0.53125,0.375 0.53125,0.703125 0,0.25 -0.0625,0.53125 -0.140625,0.828125 L 3.890625,-1.5 3.6875,-0.75 c -0.03125,0.203125 -0.125,0.546875 -0.125,0.59375 0,0.171875 0.140625,0.265625 0.28125,0.265625 0.3125,0 0.375,-0.25 0.453125,-0.5625 0.140625,-0.5625 0.515625,-2.015625 0.59375,-2.40625 0.03125,-0.125 0.5625,-1.328125 1.65625,-1.328125 0.421875,0 0.53125,0.34375 0.53125,0.703125 0,0.5625 -0.421875,1.703125 -0.625,2.234375 -0.078125,0.234375 -0.125,0.34375 -0.125,0.546875 0,0.46875 0.34375,0.8125 0.8125,0.8125 0.9375,0 1.3125,-1.453125 1.3125,-1.53125 0,-0.109375 -0.09375,-0.109375 -0.125,-0.109375 -0.09375,0 -0.09375,0.03125 -0.140625,0.1875 -0.15625,0.53125 -0.46875,1.234375 -1.015625,1.234375 -0.171875,0 -0.25,-0.09375 -0.25,-0.328125 0,-0.25 0.09375,-0.484375 0.1875,-0.703125 0.1875,-0.53125 0.609375,-1.625 0.609375,-2.203125 0,-0.640625 -0.40625,-1.0625 -1.15625,-1.0625 -0.734375,0 -1.25,0.4375 -1.625,0.96875 0,-0.125 -0.03125,-0.46875 -0.3125,-0.703125 -0.25,-0.21875 -0.5625,-0.265625 -0.8125,-0.265625 -0.90625,0 -1.390625,0.640625 -1.5625,0.875 -0.046875,-0.578125 -0.46875,-0.875 -0.921875,-0.875 -0.453125,0 -0.640625,0.390625 -0.734375,0.5625 -0.171875,0.359375 -0.296875,0.9375 -0.296875,0.96875 0,0.109375 0.09375,0.109375 0.109375,0.109375 0.109375,0 0.109375,-0.015625 0.171875,-0.234375 0.171875,-0.703125 0.375,-1.1875 0.734375,-1.1875 0.15625,0 0.296875,0.078125 0.296875,0.453125 0,0.21875 -0.03125,0.328125 -0.15625,0.84375 z\" id=\"path6695\" inkscape:connector-curvature=\"0\" style=\"stroke:none\"/>\n",
        "          </symbol>\n",
        "          <symbol id=\"textext-a452b3d5-2\" overflow=\"visible\" style=\"overflow:visible\">\n",
        "            <path d=\"\" id=\"path6698\" inkscape:connector-curvature=\"0\" style=\"stroke:none\"/>\n",
        "          </symbol>\n",
        "          <symbol id=\"textext-a452b3d5-3\" overflow=\"visible\" style=\"overflow:visible\">\n",
        "            <path d=\"m 0.84375,-0.4375 c -0.015625,0.09375 -0.0625,0.265625 -0.0625,0.28125 0,0.15625 0.125,0.21875 0.234375,0.21875 0.125,0 0.234375,-0.078125 0.28125,-0.140625 0.03125,-0.0625 0.078125,-0.296875 0.125,-0.4375 0.03125,-0.125 0.109375,-0.453125 0.140625,-0.625 0.046875,-0.15625 0.09375,-0.3125 0.125,-0.46875 0.078125,-0.28125 0.09375,-0.34375 0.296875,-0.625 C 2.171875,-2.515625 2.5,-2.875 3.03125,-2.875 c 0.390625,0 0.40625,0.359375 0.40625,0.484375 0,0.421875 -0.296875,1.1875 -0.40625,1.484375 -0.078125,0.203125 -0.109375,0.265625 -0.109375,0.375 0,0.375 0.296875,0.59375 0.65625,0.59375 0.703125,0 1,-0.953125 1,-1.0625 0,-0.09375 -0.078125,-0.09375 -0.109375,-0.09375 -0.09375,0 -0.09375,0.046875 -0.125,0.125 C 4.1875,-0.40625 3.875,-0.125 3.609375,-0.125 c -0.15625,0 -0.1875,-0.09375 -0.1875,-0.25 0,-0.15625 0.046875,-0.25 0.171875,-0.5625 0.078125,-0.21875 0.359375,-0.953125 0.359375,-1.34375 0,-0.671875 -0.53125,-0.796875 -0.90625,-0.796875 -0.578125,0 -0.96875,0.359375 -1.171875,0.640625 -0.046875,-0.484375 -0.453125,-0.640625 -0.75,-0.640625 -0.296875,0 -0.453125,0.21875 -0.546875,0.375 -0.15625,0.265625 -0.25,0.65625 -0.25,0.703125 0,0.078125 0.09375,0.078125 0.125,0.078125 0.09375,0 0.09375,-0.015625 0.140625,-0.203125 0.109375,-0.40625 0.25,-0.75 0.515625,-0.75 0.1875,0 0.234375,0.15625 0.234375,0.34375 0,0.125 -0.0625,0.390625 -0.125,0.578125 -0.046875,0.1875 -0.109375,0.46875 -0.140625,0.625 z\" id=\"path6701\" inkscape:connector-curvature=\"0\" style=\"stroke:none\"/>\n",
        "          </symbol>\n",
        "          <symbol id=\"textext-a452b3d5-4\" overflow=\"visible\" style=\"overflow:visible\">\n",
        "            <path d=\"\" id=\"path6704\" inkscape:connector-curvature=\"0\" style=\"stroke:none\"/>\n",
        "          </symbol>\n",
        "          <symbol id=\"textext-a452b3d5-5\" overflow=\"visible\" style=\"overflow:visible\">\n",
        "            <path d=\"m 3.21875,-1.578125 2.140625,0 c 0.09375,0 0.25,0 0.25,-0.15625 0,-0.1875 -0.15625,-0.1875 -0.25,-0.1875 l -2.140625,0 0,-2.140625 c 0,-0.078125 0,-0.25 -0.15625,-0.25 -0.171875,0 -0.171875,0.15625 -0.171875,0.25 l 0,2.140625 -2.140625,0 c -0.09375,0 -0.265625,0 -0.265625,0.171875 0,0.171875 0.15625,0.171875 0.265625,0.171875 l 2.140625,0 0,2.140625 c 0,0.09375 0,0.265625 0.15625,0.265625 0.171875,0 0.171875,-0.171875 0.171875,-0.265625 z\" id=\"path6707\" inkscape:connector-curvature=\"0\" style=\"stroke:none\"/>\n",
        "          </symbol>\n",
        "          <symbol id=\"textext-a452b3d5-6\" overflow=\"visible\" style=\"overflow:visible\">\n",
        "            <path d=\"m 2.328125,-4.4375 c 0,-0.1875 0,-0.1875 -0.203125,-0.1875 -0.453125,0.4375 -1.078125,0.4375 -1.359375,0.4375 l 0,0.25 c 0.15625,0 0.625,0 1,-0.1875 l 0,3.546875 c 0,0.234375 0,0.328125 -0.6875,0.328125 l -0.265625,0 0,0.25 c 0.125,0 0.984375,-0.03125 1.234375,-0.03125 0.21875,0 1.09375,0.03125 1.25,0.03125 l 0,-0.25 -0.265625,0 c -0.703125,0 -0.703125,-0.09375 -0.703125,-0.328125 z\" id=\"path6710\" inkscape:connector-curvature=\"0\" style=\"stroke:none\"/>\n",
        "          </symbol>\n",
        "        </g>\n",
        "      </defs>\n",
        "      <g id=\"textext-a452b3d5-7\">\n",
        "        <g id=\"g6713\" style=\"fill:#000000;fill-opacity:1\">\n",
        "          <use height=\"360\" id=\"use6715\" width=\"360\" x=\"223.43201\" xlink:href=\"#textext-a452b3d5-1\" y=\"134.765\"/>\n",
        "        </g>\n",
        "        <g id=\"g6717\" style=\"fill:#000000;fill-opacity:1\">\n",
        "          <use height=\"360\" id=\"use6719\" width=\"360\" x=\"232.179\" xlink:href=\"#textext-a452b3d5-3\" y=\"136.259\"/>\n",
        "        </g>\n",
        "        <g id=\"g6721\" style=\"fill:#000000;fill-opacity:1\">\n",
        "          <use height=\"360\" id=\"use6723\" width=\"360\" x=\"237.104\" xlink:href=\"#textext-a452b3d5-5\" y=\"136.259\"/>\n",
        "          <use height=\"360\" id=\"use6725\" width=\"360\" x=\"243.22002\" xlink:href=\"#textext-a452b3d5-6\" y=\"136.259\"/>\n",
        "        </g>\n",
        "      </g>\n",
        "    </g>\n",
        "    <g id=\"g7065\" ns0:preamble=\"\" ns0:text=\"$m_n$\" transform=\"translate(62.8449,755.1651)\">\n",
        "      <defs id=\"defs7067\">\n",
        "        <g id=\"g7069\">\n",
        "          <symbol id=\"textext-c4d0d8e4-0\" overflow=\"visible\" style=\"overflow:visible\">\n",
        "            <path d=\"\" id=\"path7072\" inkscape:connector-curvature=\"0\" style=\"stroke:none\"/>\n",
        "          </symbol>\n",
        "          <symbol id=\"textext-c4d0d8e4-1\" overflow=\"visible\" style=\"overflow:visible\">\n",
        "            <path d=\"m 0.875,-0.59375 c -0.03125,0.15625 -0.09375,0.390625 -0.09375,0.4375 0,0.171875 0.140625,0.265625 0.296875,0.265625 0.125,0 0.296875,-0.078125 0.375,-0.28125 0,-0.015625 0.125,-0.484375 0.1875,-0.734375 l 0.21875,-0.890625 C 1.90625,-2.03125 1.96875,-2.25 2.03125,-2.46875 c 0.03125,-0.171875 0.109375,-0.46875 0.125,-0.5 0.140625,-0.3125 0.671875,-1.21875 1.625,-1.21875 0.453125,0 0.53125,0.375 0.53125,0.703125 0,0.25 -0.0625,0.53125 -0.140625,0.828125 L 3.890625,-1.5 3.6875,-0.75 c -0.03125,0.203125 -0.125,0.546875 -0.125,0.59375 0,0.171875 0.140625,0.265625 0.28125,0.265625 0.3125,0 0.375,-0.25 0.453125,-0.5625 0.140625,-0.5625 0.515625,-2.015625 0.59375,-2.40625 0.03125,-0.125 0.5625,-1.328125 1.65625,-1.328125 0.421875,0 0.53125,0.34375 0.53125,0.703125 0,0.5625 -0.421875,1.703125 -0.625,2.234375 -0.078125,0.234375 -0.125,0.34375 -0.125,0.546875 0,0.46875 0.34375,0.8125 0.8125,0.8125 0.9375,0 1.3125,-1.453125 1.3125,-1.53125 0,-0.109375 -0.09375,-0.109375 -0.125,-0.109375 -0.09375,0 -0.09375,0.03125 -0.140625,0.1875 -0.15625,0.53125 -0.46875,1.234375 -1.015625,1.234375 -0.171875,0 -0.25,-0.09375 -0.25,-0.328125 0,-0.25 0.09375,-0.484375 0.1875,-0.703125 0.1875,-0.53125 0.609375,-1.625 0.609375,-2.203125 0,-0.640625 -0.40625,-1.0625 -1.15625,-1.0625 -0.734375,0 -1.25,0.4375 -1.625,0.96875 0,-0.125 -0.03125,-0.46875 -0.3125,-0.703125 -0.25,-0.21875 -0.5625,-0.265625 -0.8125,-0.265625 -0.90625,0 -1.390625,0.640625 -1.5625,0.875 -0.046875,-0.578125 -0.46875,-0.875 -0.921875,-0.875 -0.453125,0 -0.640625,0.390625 -0.734375,0.5625 -0.171875,0.359375 -0.296875,0.9375 -0.296875,0.96875 0,0.109375 0.09375,0.109375 0.109375,0.109375 0.109375,0 0.109375,-0.015625 0.171875,-0.234375 0.171875,-0.703125 0.375,-1.1875 0.734375,-1.1875 0.15625,0 0.296875,0.078125 0.296875,0.453125 0,0.21875 -0.03125,0.328125 -0.15625,0.84375 z\" id=\"path7075\" inkscape:connector-curvature=\"0\" style=\"stroke:none\"/>\n",
        "          </symbol>\n",
        "          <symbol id=\"textext-c4d0d8e4-2\" overflow=\"visible\" style=\"overflow:visible\">\n",
        "            <path d=\"\" id=\"path7078\" inkscape:connector-curvature=\"0\" style=\"stroke:none\"/>\n",
        "          </symbol>\n",
        "          <symbol id=\"textext-c4d0d8e4-3\" overflow=\"visible\" style=\"overflow:visible\">\n",
        "            <path d=\"m 0.84375,-0.4375 c -0.015625,0.09375 -0.0625,0.265625 -0.0625,0.28125 0,0.15625 0.125,0.21875 0.234375,0.21875 0.125,0 0.234375,-0.078125 0.28125,-0.140625 0.03125,-0.0625 0.078125,-0.296875 0.125,-0.4375 0.03125,-0.125 0.109375,-0.453125 0.140625,-0.625 0.046875,-0.15625 0.09375,-0.3125 0.125,-0.46875 0.078125,-0.28125 0.09375,-0.34375 0.296875,-0.625 C 2.171875,-2.515625 2.5,-2.875 3.03125,-2.875 c 0.390625,0 0.40625,0.359375 0.40625,0.484375 0,0.421875 -0.296875,1.1875 -0.40625,1.484375 -0.078125,0.203125 -0.109375,0.265625 -0.109375,0.375 0,0.375 0.296875,0.59375 0.65625,0.59375 0.703125,0 1,-0.953125 1,-1.0625 0,-0.09375 -0.078125,-0.09375 -0.109375,-0.09375 -0.09375,0 -0.09375,0.046875 -0.125,0.125 C 4.1875,-0.40625 3.875,-0.125 3.609375,-0.125 c -0.15625,0 -0.1875,-0.09375 -0.1875,-0.25 0,-0.15625 0.046875,-0.25 0.171875,-0.5625 0.078125,-0.21875 0.359375,-0.953125 0.359375,-1.34375 0,-0.671875 -0.53125,-0.796875 -0.90625,-0.796875 -0.578125,0 -0.96875,0.359375 -1.171875,0.640625 -0.046875,-0.484375 -0.453125,-0.640625 -0.75,-0.640625 -0.296875,0 -0.453125,0.21875 -0.546875,0.375 -0.15625,0.265625 -0.25,0.65625 -0.25,0.703125 0,0.078125 0.09375,0.078125 0.125,0.078125 0.09375,0 0.09375,-0.015625 0.140625,-0.203125 0.109375,-0.40625 0.25,-0.75 0.515625,-0.75 0.1875,0 0.234375,0.15625 0.234375,0.34375 0,0.125 -0.0625,0.390625 -0.125,0.578125 -0.046875,0.1875 -0.109375,0.46875 -0.140625,0.625 z\" id=\"path7081\" inkscape:connector-curvature=\"0\" style=\"stroke:none\"/>\n",
        "          </symbol>\n",
        "        </g>\n",
        "      </defs>\n",
        "      <g id=\"textext-c4d0d8e4-4\">\n",
        "        <g id=\"g7084\" style=\"fill:#000000;fill-opacity:1\">\n",
        "          <use height=\"360\" id=\"use7086\" width=\"360\" x=\"223.43201\" xlink:href=\"#textext-c4d0d8e4-1\" y=\"134.765\"/>\n",
        "        </g>\n",
        "        <g id=\"g7088\" style=\"fill:#000000;fill-opacity:1\">\n",
        "          <use height=\"360\" id=\"use7090\" width=\"360\" x=\"232.179\" xlink:href=\"#textext-c4d0d8e4-3\" y=\"136.259\"/>\n",
        "        </g>\n",
        "      </g>\n",
        "    </g>\n",
        "    <path d=\"m 23.504425,1008.7314 0,28.6726\" id=\"path7276\" inkscape:connector-curvature=\"0\" style=\"fill:none;stroke:#000000;stroke-width:1px;stroke-linecap:butt;stroke-linejoin:miter;stroke-opacity:1\"/>\n",
        "    <path d=\"m 181.8938,1016.7491 0,20.2508\" id=\"path7276-2\" inkscape:connector-curvature=\"0\" sodipodi:nodetypes=\"cc\" style=\"fill:none;stroke:#000000;stroke-width:1px;stroke-linecap:butt;stroke-linejoin:miter;stroke-opacity:1\"/>\n",
        "    <path d=\"m 23.504425,1032.289 65.391323,0\" id=\"path7296\" inkscape:connector-curvature=\"0\" sodipodi:nodetypes=\"cc\" style=\"fill:none;stroke:#000000;stroke-width:1px;stroke-linecap:butt;stroke-linejoin:miter;stroke-opacity:1;marker-start:none\"/>\n",
        "    <path d=\"m 111.93207,1032.2889 67.87637,0\" id=\"path7298\" inkscape:connector-curvature=\"0\" sodipodi:nodetypes=\"cc\" style=\"fill:none;stroke:#000000;stroke-width:1px;stroke-linecap:butt;stroke-linejoin:miter;stroke-opacity:1;marker-end:url(#Arrow1Send)\"/>\n",
        "    <g id=\"g8966\" ns0:preamble=\"\" ns0:text=\"$\\\\hat{i}_x$\" transform=\"translate(-149.30401,880.3294)\">\n",
        "      <defs id=\"defs8968\">\n",
        "        <g id=\"g8970\">\n",
        "          <symbol id=\"textext-77f6b85a-0\" overflow=\"visible\" style=\"overflow:visible\">\n",
        "            <path d=\"\" id=\"path8973\" inkscape:connector-curvature=\"0\" style=\"stroke:none\"/>\n",
        "          </symbol>\n",
        "          <symbol id=\"textext-77f6b85a-1\" overflow=\"visible\" style=\"overflow:visible\">\n",
        "            <path d=\"M 2.5,-6.921875 1.15625,-5.5625 1.328125,-5.390625 2.5,-6.40625 3.640625,-5.390625 3.8125,-5.5625 z\" id=\"path8976\" inkscape:connector-curvature=\"0\" style=\"stroke:none\"/>\n",
        "          </symbol>\n",
        "          <symbol id=\"textext-77f6b85a-2\" overflow=\"visible\" style=\"overflow:visible\">\n",
        "            <path d=\"\" id=\"path8979\" inkscape:connector-curvature=\"0\" style=\"stroke:none\"/>\n",
        "          </symbol>\n",
        "          <symbol id=\"textext-77f6b85a-3\" overflow=\"visible\" style=\"overflow:visible\">\n",
        "            <path d=\"m 2.828125,-6.234375 c 0,-0.203125 -0.140625,-0.359375 -0.359375,-0.359375 -0.28125,0 -0.546875,0.265625 -0.546875,0.53125 0,0.1875 0.140625,0.359375 0.375,0.359375 0.234375,0 0.53125,-0.234375 0.53125,-0.53125 z m -0.75,3.75 c 0.109375,-0.28125 0.109375,-0.3125 0.21875,-0.578125 0.078125,-0.203125 0.125,-0.34375 0.125,-0.53125 0,-0.4375 -0.3125,-0.8125 -0.8125,-0.8125 -0.9375,0 -1.3125,1.453125 -1.3125,1.53125 0,0.109375 0.09375,0.109375 0.109375,0.109375 0.109375,0 0.109375,-0.03125 0.15625,-0.1875 0.28125,-0.9375 0.671875,-1.234375 1.015625,-1.234375 0.078125,0 0.25,0 0.25,0.3125 0,0.21875 -0.078125,0.421875 -0.109375,0.53125 -0.078125,0.25 -0.53125,1.40625 -0.6875,1.84375 -0.109375,0.25 -0.234375,0.578125 -0.234375,0.796875 0,0.46875 0.34375,0.8125 0.8125,0.8125 0.9375,0 1.3125,-1.4375 1.3125,-1.53125 0,-0.109375 -0.09375,-0.109375 -0.125,-0.109375 -0.09375,0 -0.09375,0.03125 -0.140625,0.1875 -0.1875,0.625 -0.515625,1.234375 -1.015625,1.234375 -0.171875,0 -0.25,-0.09375 -0.25,-0.328125 0,-0.25 0.0625,-0.390625 0.296875,-1 z\" id=\"path8982\" inkscape:connector-curvature=\"0\" style=\"stroke:none\"/>\n",
        "          </symbol>\n",
        "          <symbol id=\"textext-77f6b85a-4\" overflow=\"visible\" style=\"overflow:visible\">\n",
        "            <path d=\"\" id=\"path8985\" inkscape:connector-curvature=\"0\" style=\"stroke:none\"/>\n",
        "          </symbol>\n",
        "          <symbol id=\"textext-77f6b85a-5\" overflow=\"visible\" style=\"overflow:visible\">\n",
        "            <path d=\"M 1.734375,-0.734375 C 1.671875,-0.5 1.4375,-0.125 1.078125,-0.125 c -0.015625,0 -0.234375,0 -0.375,-0.09375 0.28125,-0.09375 0.3125,-0.34375 0.3125,-0.390625 0,-0.15625 -0.125,-0.25 -0.28125,-0.25 -0.203125,0 -0.40625,0.15625 -0.40625,0.421875 0,0.34375 0.390625,0.5 0.734375,0.5 0.328125,0 0.609375,-0.1875 0.78125,-0.484375 C 2.015625,-0.0625 2.390625,0.0625 2.671875,0.0625 c 0.8125,0 1.234375,-0.859375 1.234375,-1.0625 0,-0.09375 -0.09375,-0.09375 -0.109375,-0.09375 -0.109375,0 -0.109375,0.046875 -0.140625,0.125 -0.140625,0.484375 -0.5625,0.84375 -0.953125,0.84375 -0.28125,0 -0.421875,-0.1875 -0.421875,-0.453125 0,-0.1875 0.171875,-0.8125 0.359375,-1.59375 C 2.78125,-2.703125 3.09375,-2.875 3.328125,-2.875 c 0.015625,0 0.21875,0 0.375,0.09375 -0.21875,0.0625 -0.3125,0.265625 -0.3125,0.390625 0,0.140625 0.125,0.25 0.28125,0.25 0.15625,0 0.390625,-0.125 0.390625,-0.421875 0,-0.390625 -0.453125,-0.515625 -0.71875,-0.515625 -0.359375,0 -0.640625,0.234375 -0.78125,0.5 -0.125,-0.28125 -0.453125,-0.5 -0.84375,-0.5 C 0.9375,-3.078125 0.5,-2.21875 0.5,-2 c 0,0.078125 0.09375,0.078125 0.109375,0.078125 0.09375,0 0.09375,-0.015625 0.140625,-0.109375 C 0.921875,-2.578125 1.359375,-2.875 1.703125,-2.875 1.9375,-2.875 2.125,-2.75 2.125,-2.421875 2.125,-2.28125 2.03125,-1.9375 1.96875,-1.6875 z\" id=\"path8988\" inkscape:connector-curvature=\"0\" style=\"stroke:none\"/>\n",
        "          </symbol>\n",
        "        </g>\n",
        "      </defs>\n",
        "      <g id=\"textext-77f6b85a-6\">\n",
        "        <g id=\"g8991\" style=\"fill:#000000;fill-opacity:1\">\n",
        "          <use height=\"360\" id=\"use8993\" width=\"360\" x=\"222.658\" xlink:href=\"#textext-77f6b85a-1\" y=\"132.483\"/>\n",
        "        </g>\n",
        "        <g id=\"g8995\" style=\"fill:#000000;fill-opacity:1\">\n",
        "          <use height=\"360\" id=\"use8997\" width=\"360\" x=\"223.43201\" xlink:href=\"#textext-77f6b85a-3\" y=\"134.765\"/>\n",
        "        </g>\n",
        "        <g id=\"g8999\" style=\"fill:#000000;fill-opacity:1\">\n",
        "          <use height=\"360\" id=\"use9001\" width=\"360\" x=\"226.864\" xlink:href=\"#textext-77f6b85a-5\" y=\"136.259\"/>\n",
        "        </g>\n",
        "      </g>\n",
        "    </g>\n",
        "    <g id=\"g9445\" ns0:preamble=\"\" ns0:text=\"$\\\\hat{i}_y$\" transform=\"translate(-212.38366,815.97542)\">\n",
        "      <defs id=\"defs9447\">\n",
        "        <g id=\"g9449\">\n",
        "          <symbol id=\"textext-9fe1e674-0\" overflow=\"visible\" style=\"overflow:visible\">\n",
        "            <path d=\"\" id=\"path9452\" inkscape:connector-curvature=\"0\" style=\"stroke:none\"/>\n",
        "          </symbol>\n",
        "          <symbol id=\"textext-9fe1e674-1\" overflow=\"visible\" style=\"overflow:visible\">\n",
        "            <path d=\"M 2.5,-6.921875 1.15625,-5.5625 1.328125,-5.390625 2.5,-6.40625 3.640625,-5.390625 3.8125,-5.5625 z\" id=\"path9455\" inkscape:connector-curvature=\"0\" style=\"stroke:none\"/>\n",
        "          </symbol>\n",
        "          <symbol id=\"textext-9fe1e674-2\" overflow=\"visible\" style=\"overflow:visible\">\n",
        "            <path d=\"\" id=\"path9458\" inkscape:connector-curvature=\"0\" style=\"stroke:none\"/>\n",
        "          </symbol>\n",
        "          <symbol id=\"textext-9fe1e674-3\" overflow=\"visible\" style=\"overflow:visible\">\n",
        "            <path d=\"m 2.828125,-6.234375 c 0,-0.203125 -0.140625,-0.359375 -0.359375,-0.359375 -0.28125,0 -0.546875,0.265625 -0.546875,0.53125 0,0.1875 0.140625,0.359375 0.375,0.359375 0.234375,0 0.53125,-0.234375 0.53125,-0.53125 z m -0.75,3.75 c 0.109375,-0.28125 0.109375,-0.3125 0.21875,-0.578125 0.078125,-0.203125 0.125,-0.34375 0.125,-0.53125 0,-0.4375 -0.3125,-0.8125 -0.8125,-0.8125 -0.9375,0 -1.3125,1.453125 -1.3125,1.53125 0,0.109375 0.09375,0.109375 0.109375,0.109375 0.109375,0 0.109375,-0.03125 0.15625,-0.1875 0.28125,-0.9375 0.671875,-1.234375 1.015625,-1.234375 0.078125,0 0.25,0 0.25,0.3125 0,0.21875 -0.078125,0.421875 -0.109375,0.53125 -0.078125,0.25 -0.53125,1.40625 -0.6875,1.84375 -0.109375,0.25 -0.234375,0.578125 -0.234375,0.796875 0,0.46875 0.34375,0.8125 0.8125,0.8125 0.9375,0 1.3125,-1.4375 1.3125,-1.53125 0,-0.109375 -0.09375,-0.109375 -0.125,-0.109375 -0.09375,0 -0.09375,0.03125 -0.140625,0.1875 -0.1875,0.625 -0.515625,1.234375 -1.015625,1.234375 -0.171875,0 -0.25,-0.09375 -0.25,-0.328125 0,-0.25 0.0625,-0.390625 0.296875,-1 z\" id=\"path9461\" inkscape:connector-curvature=\"0\" style=\"stroke:none\"/>\n",
        "          </symbol>\n",
        "          <symbol id=\"textext-9fe1e674-4\" overflow=\"visible\" style=\"overflow:visible\">\n",
        "            <path d=\"\" id=\"path9464\" inkscape:connector-curvature=\"0\" style=\"stroke:none\"/>\n",
        "          </symbol>\n",
        "          <symbol id=\"textext-9fe1e674-5\" overflow=\"visible\" style=\"overflow:visible\">\n",
        "            <path d=\"M 3.875,-2.625 C 3.90625,-2.71875 3.90625,-2.734375 3.90625,-2.78125 3.90625,-2.921875 3.796875,-3 3.671875,-3 3.59375,-3 3.46875,-2.96875 3.390625,-2.84375 3.359375,-2.796875 3.3125,-2.578125 3.28125,-2.4375 L 3.125,-1.859375 c -0.03125,0.171875 -0.25,1.046875 -0.28125,1.125 0,0 -0.3125,0.609375 -0.84375,0.609375 -0.484375,0 -0.484375,-0.453125 -0.484375,-0.578125 0,-0.375 0.15625,-0.8125 0.375,-1.359375 C 1.96875,-2.28125 2,-2.359375 2,-2.484375 2,-2.8125 1.71875,-3.078125 1.34375,-3.078125 0.640625,-3.078125 0.328125,-2.125 0.328125,-2 c 0,0.078125 0.09375,0.078125 0.125,0.078125 0.09375,0 0.09375,-0.03125 0.125,-0.109375 C 0.75,-2.609375 1.046875,-2.875 1.328125,-2.875 1.4375,-2.875 1.5,-2.796875 1.5,-2.640625 c 0,0.171875 -0.0625,0.3125 -0.09375,0.40625 C 1.0625,-1.375 1,-1.125 1,-0.8125 1,-0.703125 1,-0.375 1.265625,-0.140625 1.484375,0.03125 1.78125,0.0625 1.96875,0.0625 2.25,0.0625 2.5,-0.03125 2.71875,-0.25 2.640625,0.140625 2.5625,0.4375 2.265625,0.78125 2.078125,1 1.796875,1.21875 1.421875,1.21875 c -0.046875,0 -0.375,0 -0.515625,-0.21875 0.375,-0.046875 0.375,-0.375 0.375,-0.390625 0,-0.21875 -0.203125,-0.265625 -0.265625,-0.265625 -0.171875,0 -0.40625,0.140625 -0.40625,0.46875 0,0.34375 0.328125,0.609375 0.828125,0.609375 C 2.140625,1.421875 3,0.875 3.21875,0 z\" id=\"path9467\" inkscape:connector-curvature=\"0\" style=\"stroke:none\"/>\n",
        "          </symbol>\n",
        "        </g>\n",
        "      </defs>\n",
        "      <g id=\"textext-9fe1e674-6\">\n",
        "        <g id=\"g9470\" style=\"fill:#000000;fill-opacity:1\">\n",
        "          <use height=\"360\" id=\"use9472\" width=\"360\" x=\"222.658\" xlink:href=\"#textext-9fe1e674-1\" y=\"132.483\"/>\n",
        "        </g>\n",
        "        <g id=\"g9474\" style=\"fill:#000000;fill-opacity:1\">\n",
        "          <use height=\"360\" id=\"use9476\" width=\"360\" x=\"223.43201\" xlink:href=\"#textext-9fe1e674-3\" y=\"134.765\"/>\n",
        "        </g>\n",
        "        <g id=\"g9478\" style=\"fill:#000000;fill-opacity:1\">\n",
        "          <use height=\"360\" id=\"use9480\" width=\"360\" x=\"226.864\" xlink:href=\"#textext-9fe1e674-5\" y=\"136.259\"/>\n",
        "        </g>\n",
        "      </g>\n",
        "    </g>\n",
        "    <g id=\"g10006\" ns0:preamble=\"\" ns0:text=\"$l_0$\" transform=\"translate(-15.77207,838.3967)\">\n",
        "      <defs id=\"defs10008\">\n",
        "        <g id=\"g10010\">\n",
        "          <symbol id=\"textext-03c909df-0\" overflow=\"visible\" style=\"overflow:visible\">\n",
        "            <path d=\"\" id=\"path10013\" inkscape:connector-curvature=\"0\" style=\"stroke:none\"/>\n",
        "          </symbol>\n",
        "          <symbol id=\"textext-03c909df-1\" overflow=\"visible\" style=\"overflow:visible\">\n",
        "            <path d=\"m 2.578125,-6.8125 c 0,0 0,-0.109375 -0.140625,-0.109375 -0.21875,0 -0.953125,0.078125 -1.21875,0.109375 -0.078125,0 -0.1875,0.015625 -0.1875,0.203125 0,0.109375 0.109375,0.109375 0.25,0.109375 0.484375,0 0.5,0.09375 0.5,0.171875 L 1.75,-6.125 0.484375,-1.140625 C 0.453125,-1.03125 0.4375,-0.96875 0.4375,-0.8125 c 0,0.578125 0.4375,0.921875 0.90625,0.921875 0.328125,0 0.578125,-0.203125 0.75,-0.5625 0.171875,-0.375 0.296875,-0.953125 0.296875,-0.96875 0,-0.109375 -0.09375,-0.109375 -0.125,-0.109375 -0.09375,0 -0.109375,0.046875 -0.125,0.1875 C 1.96875,-0.703125 1.78125,-0.109375 1.375,-0.109375 c -0.296875,0 -0.296875,-0.3125 -0.296875,-0.453125 0,-0.25 0.015625,-0.296875 0.0625,-0.484375 z\" id=\"path10016\" inkscape:connector-curvature=\"0\" style=\"stroke:none\"/>\n",
        "          </symbol>\n",
        "          <symbol id=\"textext-03c909df-2\" overflow=\"visible\" style=\"overflow:visible\">\n",
        "            <path d=\"\" id=\"path10019\" inkscape:connector-curvature=\"0\" style=\"stroke:none\"/>\n",
        "          </symbol>\n",
        "          <symbol id=\"textext-03c909df-3\" overflow=\"visible\" style=\"overflow:visible\">\n",
        "            <path d=\"M 3.59375,-2.21875 C 3.59375,-2.984375 3.5,-3.546875 3.1875,-4.03125 2.96875,-4.34375 2.53125,-4.625 1.984375,-4.625 c -1.625,0 -1.625,1.90625 -1.625,2.40625 0,0.5 0,2.359375 1.625,2.359375 1.609375,0 1.609375,-1.859375 1.609375,-2.359375 z M 1.984375,-0.0625 c -0.328125,0 -0.75,-0.1875 -0.890625,-0.75 C 1,-1.21875 1,-1.796875 1,-2.3125 1,-2.828125 1,-3.359375 1.09375,-3.734375 1.25,-4.28125 1.6875,-4.4375 1.984375,-4.4375 c 0.375,0 0.734375,0.234375 0.859375,0.640625 0.109375,0.375 0.125,0.875 0.125,1.484375 0,0.515625 0,1.03125 -0.09375,1.46875 -0.140625,0.640625 -0.609375,0.78125 -0.890625,0.78125 z\" id=\"path10022\" inkscape:connector-curvature=\"0\" style=\"stroke:none\"/>\n",
        "          </symbol>\n",
        "        </g>\n",
        "      </defs>\n",
        "      <g id=\"textext-03c909df-4\">\n",
        "        <g id=\"g10025\" style=\"fill:#000000;fill-opacity:1\">\n",
        "          <use height=\"360\" id=\"use10027\" width=\"360\" x=\"223.43201\" xlink:href=\"#textext-03c909df-1\" y=\"134.765\"/>\n",
        "        </g>\n",
        "        <g id=\"g10029\" style=\"fill:#000000;fill-opacity:1\">\n",
        "          <use height=\"360\" id=\"use10031\" width=\"360\" x=\"226.405\" xlink:href=\"#textext-03c909df-3\" y=\"136.259\"/>\n",
        "        </g>\n",
        "      </g>\n",
        "    </g>\n",
        "    <g id=\"g10535\" ns0:preamble=\"\" ns0:text=\"$l_1$\" transform=\"translate(44.121736,785.51174)\">\n",
        "      <defs id=\"defs10537\">\n",
        "        <g id=\"g10539\">\n",
        "          <symbol id=\"textext-76adb4f4-0\" overflow=\"visible\" style=\"overflow:visible\">\n",
        "            <path d=\"\" id=\"path10542\" inkscape:connector-curvature=\"0\" style=\"stroke:none\"/>\n",
        "          </symbol>\n",
        "          <symbol id=\"textext-76adb4f4-1\" overflow=\"visible\" style=\"overflow:visible\">\n",
        "            <path d=\"m 2.578125,-6.8125 c 0,0 0,-0.109375 -0.140625,-0.109375 -0.21875,0 -0.953125,0.078125 -1.21875,0.109375 -0.078125,0 -0.1875,0.015625 -0.1875,0.203125 0,0.109375 0.109375,0.109375 0.25,0.109375 0.484375,0 0.5,0.09375 0.5,0.171875 L 1.75,-6.125 0.484375,-1.140625 C 0.453125,-1.03125 0.4375,-0.96875 0.4375,-0.8125 c 0,0.578125 0.4375,0.921875 0.90625,0.921875 0.328125,0 0.578125,-0.203125 0.75,-0.5625 0.171875,-0.375 0.296875,-0.953125 0.296875,-0.96875 0,-0.109375 -0.09375,-0.109375 -0.125,-0.109375 -0.09375,0 -0.109375,0.046875 -0.125,0.1875 C 1.96875,-0.703125 1.78125,-0.109375 1.375,-0.109375 c -0.296875,0 -0.296875,-0.3125 -0.296875,-0.453125 0,-0.25 0.015625,-0.296875 0.0625,-0.484375 z\" id=\"path10545\" inkscape:connector-curvature=\"0\" style=\"stroke:none\"/>\n",
        "          </symbol>\n",
        "          <symbol id=\"textext-76adb4f4-2\" overflow=\"visible\" style=\"overflow:visible\">\n",
        "            <path d=\"\" id=\"path10548\" inkscape:connector-curvature=\"0\" style=\"stroke:none\"/>\n",
        "          </symbol>\n",
        "          <symbol id=\"textext-76adb4f4-3\" overflow=\"visible\" style=\"overflow:visible\">\n",
        "            <path d=\"m 2.328125,-4.4375 c 0,-0.1875 0,-0.1875 -0.203125,-0.1875 -0.453125,0.4375 -1.078125,0.4375 -1.359375,0.4375 l 0,0.25 c 0.15625,0 0.625,0 1,-0.1875 l 0,3.546875 c 0,0.234375 0,0.328125 -0.6875,0.328125 l -0.265625,0 0,0.25 c 0.125,0 0.984375,-0.03125 1.234375,-0.03125 0.21875,0 1.09375,0.03125 1.25,0.03125 l 0,-0.25 -0.265625,0 c -0.703125,0 -0.703125,-0.09375 -0.703125,-0.328125 z\" id=\"path10551\" inkscape:connector-curvature=\"0\" style=\"stroke:none\"/>\n",
        "          </symbol>\n",
        "        </g>\n",
        "      </defs>\n",
        "      <g id=\"textext-76adb4f4-4\">\n",
        "        <g id=\"g10554\" style=\"fill:#000000;fill-opacity:1\">\n",
        "          <use height=\"360\" id=\"use10556\" width=\"360\" x=\"223.43201\" xlink:href=\"#textext-76adb4f4-1\" y=\"134.765\"/>\n",
        "        </g>\n",
        "        <g id=\"g10558\" style=\"fill:#000000;fill-opacity:1\">\n",
        "          <use height=\"360\" id=\"use10560\" width=\"360\" x=\"226.405\" xlink:href=\"#textext-76adb4f4-3\" y=\"136.259\"/>\n",
        "        </g>\n",
        "      </g>\n",
        "    </g>\n",
        "    <g id=\"g11096\" ns0:preamble=\"\" ns0:text=\"$l_n$\" transform=\"translate(79.165983,714.14892)\">\n",
        "      <defs id=\"defs11098\">\n",
        "        <g id=\"g11100\">\n",
        "          <symbol id=\"textext-a3e54763-0\" overflow=\"visible\" style=\"overflow:visible\">\n",
        "            <path d=\"\" id=\"path11103\" inkscape:connector-curvature=\"0\" style=\"stroke:none\"/>\n",
        "          </symbol>\n",
        "          <symbol id=\"textext-a3e54763-1\" overflow=\"visible\" style=\"overflow:visible\">\n",
        "            <path d=\"m 2.578125,-6.8125 c 0,0 0,-0.109375 -0.140625,-0.109375 -0.21875,0 -0.953125,0.078125 -1.21875,0.109375 -0.078125,0 -0.1875,0.015625 -0.1875,0.203125 0,0.109375 0.109375,0.109375 0.25,0.109375 0.484375,0 0.5,0.09375 0.5,0.171875 L 1.75,-6.125 0.484375,-1.140625 C 0.453125,-1.03125 0.4375,-0.96875 0.4375,-0.8125 c 0,0.578125 0.4375,0.921875 0.90625,0.921875 0.328125,0 0.578125,-0.203125 0.75,-0.5625 0.171875,-0.375 0.296875,-0.953125 0.296875,-0.96875 0,-0.109375 -0.09375,-0.109375 -0.125,-0.109375 -0.09375,0 -0.109375,0.046875 -0.125,0.1875 C 1.96875,-0.703125 1.78125,-0.109375 1.375,-0.109375 c -0.296875,0 -0.296875,-0.3125 -0.296875,-0.453125 0,-0.25 0.015625,-0.296875 0.0625,-0.484375 z\" id=\"path11106\" inkscape:connector-curvature=\"0\" style=\"stroke:none\"/>\n",
        "          </symbol>\n",
        "          <symbol id=\"textext-a3e54763-2\" overflow=\"visible\" style=\"overflow:visible\">\n",
        "            <path d=\"\" id=\"path11109\" inkscape:connector-curvature=\"0\" style=\"stroke:none\"/>\n",
        "          </symbol>\n",
        "          <symbol id=\"textext-a3e54763-3\" overflow=\"visible\" style=\"overflow:visible\">\n",
        "            <path d=\"m 0.84375,-0.4375 c -0.015625,0.09375 -0.0625,0.265625 -0.0625,0.28125 0,0.15625 0.125,0.21875 0.234375,0.21875 0.125,0 0.234375,-0.078125 0.28125,-0.140625 0.03125,-0.0625 0.078125,-0.296875 0.125,-0.4375 0.03125,-0.125 0.109375,-0.453125 0.140625,-0.625 0.046875,-0.15625 0.09375,-0.3125 0.125,-0.46875 0.078125,-0.28125 0.09375,-0.34375 0.296875,-0.625 C 2.171875,-2.515625 2.5,-2.875 3.03125,-2.875 c 0.390625,0 0.40625,0.359375 0.40625,0.484375 0,0.421875 -0.296875,1.1875 -0.40625,1.484375 -0.078125,0.203125 -0.109375,0.265625 -0.109375,0.375 0,0.375 0.296875,0.59375 0.65625,0.59375 0.703125,0 1,-0.953125 1,-1.0625 0,-0.09375 -0.078125,-0.09375 -0.109375,-0.09375 -0.09375,0 -0.09375,0.046875 -0.125,0.125 C 4.1875,-0.40625 3.875,-0.125 3.609375,-0.125 c -0.15625,0 -0.1875,-0.09375 -0.1875,-0.25 0,-0.15625 0.046875,-0.25 0.171875,-0.5625 0.078125,-0.21875 0.359375,-0.953125 0.359375,-1.34375 0,-0.671875 -0.53125,-0.796875 -0.90625,-0.796875 -0.578125,0 -0.96875,0.359375 -1.171875,0.640625 -0.046875,-0.484375 -0.453125,-0.640625 -0.75,-0.640625 -0.296875,0 -0.453125,0.21875 -0.546875,0.375 -0.15625,0.265625 -0.25,0.65625 -0.25,0.703125 0,0.078125 0.09375,0.078125 0.125,0.078125 0.09375,0 0.09375,-0.015625 0.140625,-0.203125 0.109375,-0.40625 0.25,-0.75 0.515625,-0.75 0.1875,0 0.234375,0.15625 0.234375,0.34375 0,0.125 -0.0625,0.390625 -0.125,0.578125 -0.046875,0.1875 -0.109375,0.46875 -0.140625,0.625 z\" id=\"path11112\" inkscape:connector-curvature=\"0\" style=\"stroke:none\"/>\n",
        "          </symbol>\n",
        "        </g>\n",
        "      </defs>\n",
        "      <g id=\"textext-a3e54763-4\">\n",
        "        <g id=\"g11115\" style=\"fill:#000000;fill-opacity:1\">\n",
        "          <use height=\"360\" id=\"use11117\" width=\"360\" x=\"223.43201\" xlink:href=\"#textext-a3e54763-1\" y=\"134.765\"/>\n",
        "        </g>\n",
        "        <g id=\"g11119\" style=\"fill:#000000;fill-opacity:1\">\n",
        "          <use height=\"360\" id=\"use11121\" width=\"360\" x=\"226.405\" xlink:href=\"#textext-a3e54763-3\" y=\"136.259\"/>\n",
        "        </g>\n",
        "      </g>\n",
        "    </g>\n",
        "    <path d=\"m 95.979207,1001.7109 31.699113,0\" id=\"path3269\" inkscape:connector-curvature=\"0\" sodipodi:nodetypes=\"cc\" style=\"fill:none;stroke:#000000;stroke-width:3;stroke-linecap:butt;stroke-linejoin:miter;stroke-miterlimit:4;stroke-opacity:1;stroke-dasharray:none;marker-end:url(#Arrow1Send)\"/>\n",
        "    <g id=\"g4552\" ns0:preamble=\"\" ns0:text=\"$f$\" transform=\"translate(-129.10375,860.13899)\">\n",
        "      <defs id=\"defs4554\">\n",
        "        <g id=\"g4556\">\n",
        "          <symbol id=\"textext-75ac2183-0\" overflow=\"visible\" style=\"overflow:visible\">\n",
        "            <path d=\"\" id=\"path4559\" inkscape:connector-curvature=\"0\" style=\"stroke:none\"/>\n",
        "          </symbol>\n",
        "          <symbol id=\"textext-75ac2183-1\" overflow=\"visible\" style=\"overflow:visible\">\n",
        "            <path d=\"m 3.65625,-3.984375 0.859375,0 c 0.203125,0 0.296875,0 0.296875,-0.203125 0,-0.109375 -0.09375,-0.109375 -0.265625,-0.109375 l -0.828125,0 0.203125,-1.140625 c 0.046875,-0.203125 0.1875,-0.90625 0.25,-1.03125 0.078125,-0.1875 0.25,-0.34375 0.46875,-0.34375 0.03125,0 0.296875,0 0.484375,0.1875 -0.4375,0.03125 -0.546875,0.390625 -0.546875,0.53125 0,0.234375 0.1875,0.359375 0.375,0.359375 C 5.21875,-5.734375 5.5,-5.96875 5.5,-6.34375 c 0,-0.453125 -0.453125,-0.6875 -0.859375,-0.6875 -0.34375,0 -0.96875,0.1875 -1.265625,1.171875 -0.0625,0.203125 -0.09375,0.3125 -0.328125,1.5625 l -0.6875,0 c -0.203125,0 -0.3125,0 -0.3125,0.1875 0,0.125 0.09375,0.125 0.28125,0.125 l 0.65625,0 -0.734375,3.9375 c -0.1875,0.96875 -0.359375,1.875 -0.875,1.875 -0.046875,0 -0.28125,0 -0.484375,-0.1875 C 1.359375,1.609375 1.453125,1.25 1.453125,1.109375 1.453125,0.875 1.265625,0.75 1.078125,0.75 0.8125,0.75 0.53125,0.984375 0.53125,1.359375 c 0,0.4375 0.4375,0.6875 0.84375,0.6875 0.546875,0 0.953125,-0.59375 1.125,-0.96875 0.328125,-0.625 0.546875,-1.828125 0.5625,-1.90625 z\" id=\"path4562\" inkscape:connector-curvature=\"0\" style=\"stroke:none\"/>\n",
        "          </symbol>\n",
        "        </g>\n",
        "      </defs>\n",
        "      <g id=\"textext-75ac2183-2\">\n",
        "        <g id=\"g4565\" style=\"fill:#000000;fill-opacity:1\">\n",
        "          <use height=\"270\" id=\"use4567\" width=\"360\" x=\"223.43201\" xlink:href=\"#textext-75ac2183-1\" y=\"134.765\"/>\n",
        "        </g>\n",
        "      </g>\n",
        "    </g>\n",
        "  </g>\n",
        "</svg>"
       ],
       "text": [
        "<IPython.core.display.SVG at 0x7f3bf917d850>"
       ]
      }
     ],
     "prompt_number": 1
    },
    {
     "cell_type": "markdown",
     "metadata": {},
     "source": [
      "---\n",
      "\n",
      "# Formulate the Problem\n",
      "\n",
      "### Create Generalized Coordinates, Speeds, and Constants"
     ]
    },
    {
     "cell_type": "code",
     "collapsed": false,
     "input": [
      "from sympy import symbols, trigsimp\n",
      "from sympy.physics.mechanics import *"
     ],
     "language": "python",
     "metadata": {},
     "outputs": [],
     "prompt_number": 2
    },
    {
     "cell_type": "code",
     "collapsed": false,
     "input": [
      "# Initialize the pretty-printing system\n",
      "init_vprinting()"
     ],
     "language": "python",
     "metadata": {},
     "outputs": [],
     "prompt_number": 3
    },
    {
     "cell_type": "code",
     "collapsed": false,
     "input": [
      "# Number of Links\n",
      "n = 3\n",
      "\n",
      "# Generalized Coordinates and Speeds\n",
      "q = dynamicsymbols('q:' + str(n + 1))\n",
      "u = dynamicsymbols('u:' + str(n + 1))\n",
      "\n",
      "# Input Force\n",
      "f = dynamicsymbols('f')\n",
      "\n",
      "# Constants:\n",
      "m = symbols('m:' + str(n + 1))         # Mass of each bob\n",
      "l = symbols('l:' + str(n))             # Length of each link\n",
      "g, t = symbols('g t')                  # Gravity and time"
     ],
     "language": "python",
     "metadata": {},
     "outputs": [],
     "prompt_number": 4
    },
    {
     "cell_type": "markdown",
     "metadata": {},
     "source": [
      "---\n",
      "\n",
      "### Create the world coordinate frame, and origin"
     ]
    },
    {
     "cell_type": "code",
     "collapsed": false,
     "input": [
      "I = ReferenceFrame('I')\n",
      "O = Point('O')\n",
      "O.set_vel(I, 0)"
     ],
     "language": "python",
     "metadata": {},
     "outputs": [],
     "prompt_number": 5
    },
    {
     "cell_type": "markdown",
     "metadata": {},
     "source": [
      "---\n",
      "\n",
      "### Create point attached to cart"
     ]
    },
    {
     "cell_type": "code",
     "collapsed": false,
     "input": [
      "P0 = O.locatenew('P0', q[0] * I.x)\n",
      "P0.set_vel(I, u[0] * I.x)\n",
      "Pa0 = Particle('Pa0', P0, m[0])"
     ],
     "language": "python",
     "metadata": {},
     "outputs": [],
     "prompt_number": 6
    },
    {
     "cell_type": "markdown",
     "metadata": {},
     "source": [
      "---\n",
      "\n",
      "### Create remaining links"
     ]
    },
    {
     "cell_type": "code",
     "collapsed": false,
     "input": [
      "frames = [I]\n",
      "points = [P0]\n",
      "particles = [Pa0]\n",
      "forces = [(P0, f * I.x - m[0] * g * I.y)]\n",
      "kindiffs = [q[0].diff() - u[0]]\n",
      "\n",
      "for i in range(n):\n",
      "    # Create a new frame oriented with current q and u\n",
      "    Bi = I.orientnew('B' + str(i), 'Axis', [q[i + 1], I.z])\n",
      "    Bi.set_ang_vel(I, u[i + 1] * I.z)\n",
      "    frames.append(Bi)\n",
      "\n",
      "    # Create a new point at the origin of the frame\n",
      "    Pi = points[-1].locatenew('P' + str(i + 1), l[i] * Bi.x)\n",
      "    Pi.v2pt_theory(points[-1], I, Bi)\n",
      "    points.append(Pi)\n",
      "    \n",
      "    # Create a particle at that point\n",
      "    Pai = Particle('Pa' + str(i + 1), Pi, m[i + 1])\n",
      "    particles.append(Pai)\n",
      "\n",
      "    # Add gravity acting at that point\n",
      "    forces.append((Pi, -m[i + 1] * g * I.y))\n",
      "\n",
      "    # Define the kinematic equations for this point\n",
      "    kindiffs.append(q[i + 1].diff(t) - u[i + 1])"
     ],
     "language": "python",
     "metadata": {},
     "outputs": [],
     "prompt_number": 7
    },
    {
     "cell_type": "markdown",
     "metadata": {},
     "source": [
      "---\n",
      "\n",
      "### Solve the Dynamic Equations using Kane's Method"
     ]
    },
    {
     "cell_type": "code",
     "collapsed": false,
     "input": [
      "kane = KanesMethod(I, q_ind=q, u_ind=u, kd_eqs=kindiffs)\n",
      "fr, frstar = kane.kanes_equations(forces, particles)"
     ],
     "language": "python",
     "metadata": {},
     "outputs": [],
     "prompt_number": 8
    },
    {
     "cell_type": "code",
     "collapsed": false,
     "input": [
      "trigsimp(fr)"
     ],
     "language": "python",
     "metadata": {},
     "outputs": [
      {
       "latex": [
        "$$\\left[\\begin{matrix}f\\\\- g l_{0} \\left(m_{1} + m_{2} + m_{3}\\right) \\operatorname{cos}\\left(q_{1}\\right)\\\\- g l_{1} \\left(m_{2} + m_{3}\\right) \\operatorname{cos}\\left(q_{2}\\right)\\\\- g l_{2} m_{3} \\operatorname{cos}\\left(q_{3}\\right)\\end{matrix}\\right]$$"
       ],
       "metadata": {},
       "output_type": "pyout",
       "png": "[encoded data removed]",
       "prompt_number": 9,
       "text": [
        "\u23a1             f              \u23a4\n",
        "\u23a2                            \u23a5\n",
        "\u23a2-g\u22c5l\u2080\u22c5(m\u2081 + m\u2082 + m\u2083)\u22c5cos(q\u2081)\u23a5\n",
        "\u23a2                            \u23a5\n",
        "\u23a2  -g\u22c5l\u2081\u22c5(m\u2082 + m\u2083)\u22c5cos(q\u2082)   \u23a5\n",
        "\u23a2                            \u23a5\n",
        "\u23a3      -g\u22c5l\u2082\u22c5m\u2083\u22c5cos(q\u2083)      \u23a6"
       ]
      }
     ],
     "prompt_number": 9
    },
    {
     "cell_type": "code",
     "collapsed": false,
     "input": [
      "trigsimp(frstar)"
     ],
     "language": "python",
     "metadata": {},
     "outputs": [
      {
       "latex": [
        "$$\\left[\\begin{matrix}l_{0} m_{1} u^{2}_{1} \\operatorname{cos}\\left(q_{1}\\right) + l_{0} m_{2} u^{2}_{1} \\operatorname{cos}\\left(q_{1}\\right) + l_{0} m_{3} u^{2}_{1} \\operatorname{cos}\\left(q_{1}\\right) + l_{0} \\left(m_{1} + m_{2} + m_{3}\\right) \\operatorname{sin}\\left(q_{1}\\right) \\dot{u}_{1} + l_{1} m_{2} u^{2}_{2} \\operatorname{cos}\\left(q_{2}\\right) + l_{1} m_{3} u^{2}_{2} \\operatorname{cos}\\left(q_{2}\\right) + l_{1} \\left(m_{2} + m_{3}\\right) \\operatorname{sin}\\left(q_{2}\\right) \\dot{u}_{2} + l_{2} m_{3} u^{2}_{3} \\operatorname{cos}\\left(q_{3}\\right) + l_{2} m_{3} \\operatorname{sin}\\left(q_{3}\\right) \\dot{u}_{3} - \\left(m_{0} + m_{1} + m_{2} + m_{3}\\right) \\dot{u}_{0}\\\\- l_{0} l_{1} m_{2} u^{2}_{2} \\operatorname{sin}\\left(q_{1} - q_{2}\\right) - l_{0} l_{1} m_{3} u^{2}_{2} \\operatorname{sin}\\left(q_{1} - q_{2}\\right) - l_{0} l_{1} \\left(m_{2} + m_{3}\\right) \\operatorname{cos}\\left(q_{1} - q_{2}\\right) \\dot{u}_{2} - l_{0} l_{2} m_{3} u^{2}_{3} \\operatorname{sin}\\left(q_{1} - q_{3}\\right) - l_{0} l_{2} m_{3} \\operatorname{cos}\\left(q_{1} - q_{3}\\right) \\dot{u}_{3} + l_{0} \\left(m_{1} + m_{2} + m_{3}\\right) \\operatorname{sin}\\left(q_{1}\\right) \\dot{u}_{0} - \\left(l_{0}^{2} m_{1} + l_{0}^{2} m_{2} + l_{0}^{2} m_{3}\\right) \\dot{u}_{1}\\\\l_{0} l_{1} m_{2} u^{2}_{1} \\operatorname{sin}\\left(q_{1} - q_{2}\\right) + l_{0} l_{1} m_{3} u^{2}_{1} \\operatorname{sin}\\left(q_{1} - q_{2}\\right) - l_{0} l_{1} \\left(m_{2} + m_{3}\\right) \\operatorname{cos}\\left(q_{1} - q_{2}\\right) \\dot{u}_{1} - l_{1} l_{2} m_{3} u^{2}_{3} \\operatorname{sin}\\left(q_{2} - q_{3}\\right) - l_{1} l_{2} m_{3} \\operatorname{cos}\\left(q_{2} - q_{3}\\right) \\dot{u}_{3} + l_{1} \\left(m_{2} + m_{3}\\right) \\operatorname{sin}\\left(q_{2}\\right) \\dot{u}_{0} - \\left(l_{1}^{2} m_{2} + l_{1}^{2} m_{3}\\right) \\dot{u}_{2}\\\\l_{2} m_{3} \\left(l_{0} u^{2}_{1} \\operatorname{sin}\\left(q_{1} - q_{3}\\right) - l_{0} \\operatorname{cos}\\left(q_{1} - q_{3}\\right) \\dot{u}_{1} + l_{1} u^{2}_{2} \\operatorname{sin}\\left(q_{2} - q_{3}\\right) - l_{1} \\operatorname{cos}\\left(q_{2} - q_{3}\\right) \\dot{u}_{2} - l_{2} \\dot{u}_{3} + \\operatorname{sin}\\left(q_{3}\\right) \\dot{u}_{0}\\right)\\end{matrix}\\right]$$"
       ],
       "metadata": {},
       "output_type": "pyout",
       "png": "[encoded data removed]",
       "prompt_number": 10,
       "text": [
        "\u23a1        2                   2                   2                            \n",
        "\u23a2l\u2080\u22c5m\u2081\u22c5u\u2081 \u22c5cos(q\u2081) + l\u2080\u22c5m\u2082\u22c5u\u2081 \u22c5cos(q\u2081) + l\u2080\u22c5m\u2083\u22c5u\u2081 \u22c5cos(q\u2081) + l\u2080\u22c5(m\u2081 + m\u2082 + m\u2083)\n",
        "\u23a2                                                                             \n",
        "\u23a2                  2                           2                              \n",
        "\u23a2     - l\u2080\u22c5l\u2081\u22c5m\u2082\u22c5u\u2082 \u22c5sin(q\u2081 - q\u2082) - l\u2080\u22c5l\u2081\u22c5m\u2083\u22c5u\u2082 \u22c5sin(q\u2081 - q\u2082) - l\u2080\u22c5l\u2081\u22c5(m\u2082 + m\u2083\n",
        "\u23a2                                                                             \n",
        "\u23a2                        2                           2                        \n",
        "\u23a2             l\u2080\u22c5l\u2081\u22c5m\u2082\u22c5u\u2081 \u22c5sin(q\u2081 - q\u2082) + l\u2080\u22c5l\u2081\u22c5m\u2083\u22c5u\u2081 \u22c5sin(q\u2081 - q\u2082) - l\u2080\u22c5l\u2081\u22c5(m\n",
        "\u23a2                                                                             \n",
        "\u23a2                                                           \u239b     2           \n",
        "\u23a3                                                     l\u2082\u22c5m\u2083\u22c5\u239dl\u2080\u22c5u\u2081 \u22c5sin(q\u2081 - q\n",
        "\n",
        "                       2                   2                                  \n",
        "\u22c5sin(q\u2081)\u22c5u\u2081\u0307 + l\u2081\u22c5m\u2082\u22c5u\u2082 \u22c5cos(q\u2082) + l\u2081\u22c5m\u2083\u22c5u\u2082 \u22c5cos(q\u2082) + l\u2081\u22c5(m\u2082 + m\u2083)\u22c5sin(q\u2082)\u22c5u\u2082\n",
        "                                                                              \n",
        "                                2                                             \n",
        ")\u22c5cos(q\u2081 - q\u2082)\u22c5u\u2082\u0307 - l\u2080\u22c5l\u2082\u22c5m\u2083\u22c5u\u2083 \u22c5sin(q\u2081 - q\u2083) - l\u2080\u22c5l\u2082\u22c5m\u2083\u22c5cos(q\u2081 - q\u2083)\u22c5u\u2083\u0307 + l\n",
        "                                                                              \n",
        "                                      2                                       \n",
        "\u2082 + m\u2083)\u22c5cos(q\u2081 - q\u2082)\u22c5u\u2081\u0307 - l\u2081\u22c5l\u2082\u22c5m\u2083\u22c5u\u2083 \u22c5sin(q\u2082 - q\u2083) - l\u2081\u22c5l\u2082\u22c5m\u2083\u22c5cos(q\u2082 - q\u2083)\u22c5u\n",
        "                                                                              \n",
        "                                2                                             \n",
        "\u2083) - l\u2080\u22c5cos(q\u2081 - q\u2083)\u22c5u\u2081\u0307 + l\u2081\u22c5u\u2082 \u22c5sin(q\u2082 - q\u2083) - l\u2081\u22c5cos(q\u2082 - q\u2083)\u22c5u\u2082\u0307 - l\u2082\u22c5u\u2083\u0307 \n",
        "\n",
        "            2                                                      \u23a4\n",
        "\u0307 + l\u2082\u22c5m\u2083\u22c5u\u2083 \u22c5cos(q\u2083) + l\u2082\u22c5m\u2083\u22c5sin(q\u2083)\u22c5u\u2083\u0307 - (m\u2080 + m\u2081 + m\u2082 + m\u2083)\u22c5u\u2080\u0307\u23a5\n",
        "                                                                   \u23a5\n",
        "                               \u239b  2        2        2   \u239e          \u23a5\n",
        "\u2080\u22c5(m\u2081 + m\u2082 + m\u2083)\u22c5sin(q\u2081)\u22c5u\u2080\u0307 - \u239dl\u2080 \u22c5m\u2081 + l\u2080 \u22c5m\u2082 + l\u2080 \u22c5m\u2083\u23a0\u22c5u\u2081\u0307      \u23a5\n",
        "                                                                   \u23a5\n",
        "                                \u239b  2        2   \u239e                  \u23a5\n",
        "\u2083\u0307 + l\u2081\u22c5(m\u2082 + m\u2083)\u22c5sin(q\u2082)\u22c5u\u2080\u0307 - \u239dl\u2081 \u22c5m\u2082 + l\u2081 \u22c5m\u2083\u23a0\u22c5u\u2082\u0307              \u23a5\n",
        "                                                                   \u23a5\n",
        "             \u239e                                                     \u23a5\n",
        "+ sin(q\u2083)\u22c5u\u2080\u0307\u23a0                                                     \u23a6"
       ]
      }
     ],
     "prompt_number": 10
    },
    {
     "cell_type": "markdown",
     "metadata": {},
     "source": [
      "---\n",
      "\n",
      "Simulation\n",
      "=========="
     ]
    },
    {
     "cell_type": "code",
     "collapsed": false,
     "input": [
      "from pydy.system import System\n",
      "from numpy import hstack, zeros, linspace, pi, ones\n",
      "from matplotlib import pyplot as plt\n",
      "%matplotlib inline"
     ],
     "language": "python",
     "metadata": {},
     "outputs": [
      {
       "output_type": "stream",
       "stream": "stderr",
       "text": [
        "/home/jimmy/Code/py27env/lib/python2.7/site-packages/pydy/codegen/code.py:18: DeprecationWarning: This module, 'pydy.codgen.code', is deprecated. The function 'generate_ode_function' can be found in the 'pydy.codegen.ode_function_generator' module. 'CythonGenerator' has been removed, use 'pydy.codegen.cython_code.CythonMatrixGenerator' instead.\n",
        "  DeprecationWarning)\n"
       ]
      }
     ],
     "prompt_number": 11
    },
    {
     "cell_type": "markdown",
     "metadata": {},
     "source": [
      "---\n",
      "\n",
      "### Define some parameter constants"
     ]
    },
    {
     "cell_type": "code",
     "collapsed": false,
     "input": [
      "arm_length = 1. / n\n",
      "bob_mass = 0.01 / n\n",
      "\n",
      "# Substitution dictionary, for applying the parameters\n",
      "parameter_dict = {g: 9.81}\n",
      "parameter_dict.update({i: arm_length for i in l})\n",
      "parameter_dict.update({i: bob_mass for i in m})"
     ],
     "language": "python",
     "metadata": {},
     "outputs": [],
     "prompt_number": 12
    },
    {
     "cell_type": "code",
     "collapsed": false,
     "input": [
      "print(parameter_dict)"
     ],
     "language": "python",
     "metadata": {},
     "outputs": [
      {
       "output_type": "stream",
       "stream": "stdout",
       "text": [
        "{m2: 0.0033333333333333335, m3: 0.0033333333333333335, l2: 0.3333333333333333, l0: 0.3333333333333333, l1: 0.3333333333333333, g: 9.81, m1: 0.0033333333333333335, m0: 0.0033333333333333335}\n"
       ]
      }
     ],
     "prompt_number": 13
    },
    {
     "cell_type": "code",
     "collapsed": false,
     "input": [
      "sys = System(kane, constants=parameter_dict)"
     ],
     "language": "python",
     "metadata": {},
     "outputs": [],
     "prompt_number": 14
    },
    {
     "cell_type": "code",
     "collapsed": false,
     "input": [
      "x0 = hstack(( 0, pi / 2 * ones(len(q) - 1), 1e-3 * ones(len(u))))\n",
      "t = linspace(0, 10, 1000)\n",
      "\n",
      "sys.initial_conditions = dict(zip(q + u, x0))\n",
      "sys.times = t\n",
      "y = sys.integrate()"
     ],
     "language": "python",
     "metadata": {},
     "outputs": [
      {
       "output_type": "stream",
       "stream": "stderr",
       "text": [
        "/home/jimmy/Code/py27env/lib/python2.7/site-packages/pydy/codegen/code.py:68: DeprecationWarning: This function is deprecated and will be removed in PyDy 0.4.0. Use the the new 'generate_ode_function' in 'pydy.codegen.ode_function_generator'\n",
        "  DeprecationWarning)\n"
       ]
      }
     ],
     "prompt_number": 15
    },
    {
     "cell_type": "markdown",
     "metadata": {},
     "source": [
      "---\n",
      "\n",
      "### Plot the Results"
     ]
    },
    {
     "cell_type": "code",
     "collapsed": false,
     "input": [
      "plt.plot(t, y[:, :y.shape[1] / 2])\n",
      "plt.xlabel('Time [sec]')\n",
      "plt.legend(q)\n",
      "plt.title(\"Generalized Coordinates\");"
     ],
     "language": "python",
     "metadata": {},
     "outputs": [
      {
       "metadata": {},
       "output_type": "display_data",
       "png": "[encoded data removed]",
       "text": [
        "<matplotlib.figure.Figure at 0x7f3bcf727e90>"
       ]
      }
     ],
     "prompt_number": 16
    },
    {
     "cell_type": "code",
     "collapsed": false,
     "input": [
      "plt.plot(t, y[:, y.shape[1] / 2:])\n",
      "plt.xlabel('Time [sec]')\n",
      "plt.legend(u)\n",
      "plt.title(\"Generalized Speeds\");"
     ],
     "language": "python",
     "metadata": {},
     "outputs": [
      {
       "metadata": {},
       "output_type": "display_data",
       "png": "[encoded data removed]",
       "text": [
        "<matplotlib.figure.Figure at 0x7f3bcf5eeb90>"
       ]
      }
     ],
     "prompt_number": 17
    },
    {
     "cell_type": "markdown",
     "metadata": {},
     "source": [
      "---\n",
      "\n",
      "### Animate the Results"
     ]
    },
    {
     "cell_type": "code",
     "collapsed": false,
     "input": [
      "from util import animate_pendulum"
     ],
     "language": "python",
     "metadata": {},
     "outputs": [],
     "prompt_number": 18
    },
    {
     "cell_type": "code",
     "collapsed": false,
     "input": [
      "%%capture\n",
      "animate_pendulum(t, y, arm_length, filename=\"open-loop.mp4\")"
     ],
     "language": "python",
     "metadata": {},
     "outputs": [],
     "prompt_number": 19
    },
    {
     "cell_type": "code",
     "collapsed": false,
     "input": [
      "%%capture\n",
      "!mplayer open-loop.mp4"
     ],
     "language": "python",
     "metadata": {},
     "outputs": [],
     "prompt_number": 20
    },
    {
     "cell_type": "markdown",
     "metadata": {},
     "source": [
      "---\n",
      "\n",
      "Controller Design\n",
      "================="
     ]
    },
    {
     "cell_type": "code",
     "collapsed": false,
     "input": [
      "from control import ctrb, lqr\n",
      "from numpy.linalg import matrix_rank, eigvals\n",
      "from sympy import matrix2numpy"
     ],
     "language": "python",
     "metadata": {},
     "outputs": [],
     "prompt_number": 21
    },
    {
     "cell_type": "markdown",
     "metadata": {},
     "source": [
      "---\n",
      "\n",
      "### Define an Equilibrium Point"
     ]
    },
    {
     "cell_type": "code",
     "collapsed": false,
     "input": [
      "equilibrium_point = hstack(( 0, pi / 2 * ones(len(q) - 1), zeros(len(u)) ))\n",
      "\n",
      "# Create a substitution dictionary to apply the point\n",
      "equilibrium_dict = dict(zip(q + u, equilibrium_point))\n",
      "equilibrium_dict.update({i.diff(): 0 for i in u})"
     ],
     "language": "python",
     "metadata": {},
     "outputs": [],
     "prompt_number": 22
    },
    {
     "cell_type": "markdown",
     "metadata": {},
     "source": [
      "---\n",
      "\n",
      "### Linearize about the Equilibrium Point"
     ]
    },
    {
     "cell_type": "code",
     "collapsed": false,
     "input": [
      "A, B, inputs = kane.linearize(op_point=(parameter_dict, equilibrium_dict), A_and_B=True, new_method=True)\n",
      "A = matrix2numpy(A, float)\n",
      "B = matrix2numpy(B, float)"
     ],
     "language": "python",
     "metadata": {},
     "outputs": [],
     "prompt_number": 23
    },
    {
     "cell_type": "code",
     "collapsed": false,
     "input": [
      "eigvals(A)"
     ],
     "language": "python",
     "metadata": {},
     "outputs": [
      {
       "metadata": {},
       "output_type": "pyout",
       "prompt_number": 24,
       "text": [
        "array([  0.        ,   0.        ,  15.11094356,   9.86296794,\n",
        "         5.24797562, -15.11094356,  -9.86296794,  -5.24797562])"
       ]
      }
     ],
     "prompt_number": 24
    },
    {
     "cell_type": "markdown",
     "metadata": {},
     "source": [
      "---\n",
      "\n",
      "### Check for Controllability"
     ]
    },
    {
     "cell_type": "code",
     "collapsed": false,
     "input": [
      "matrix_rank(ctrb(A, B)) == A.shape[0]"
     ],
     "language": "python",
     "metadata": {},
     "outputs": [
      {
       "metadata": {},
       "output_type": "pyout",
       "prompt_number": 25,
       "text": [
        "True"
       ]
      }
     ],
     "prompt_number": 25
    },
    {
     "cell_type": "markdown",
     "metadata": {},
     "source": [
      "---\n",
      "\n",
      "### Design a LQR Controller"
     ]
    },
    {
     "cell_type": "code",
     "collapsed": false,
     "input": [
      "K, X, E = lqr(A, B, ones(A.shape), 1)"
     ],
     "language": "python",
     "metadata": {},
     "outputs": [],
     "prompt_number": 26
    },
    {
     "cell_type": "markdown",
     "metadata": {},
     "source": [
      "---\n",
      "\n",
      "### Simulate the Feedback System"
     ]
    },
    {
     "cell_type": "code",
     "collapsed": false,
     "input": [
      "sys.specifieds = {f: lambda x, t: K.dot(equilibrium_point - x)}\n",
      "x0 = hstack(( 0, pi / 2 * ones(len(q) - 1), 1 * ones(len(u)) ))\n",
      "sys.initial_conditions = dict(zip(q + u, x0))"
     ],
     "language": "python",
     "metadata": {},
     "outputs": [],
     "prompt_number": 27
    },
    {
     "cell_type": "code",
     "collapsed": false,
     "input": [
      "y = sys.integrate()"
     ],
     "language": "python",
     "metadata": {},
     "outputs": [],
     "prompt_number": 28
    },
    {
     "cell_type": "markdown",
     "metadata": {},
     "source": [
      "---\n",
      "\n",
      "### Plot the Results"
     ]
    },
    {
     "cell_type": "code",
     "collapsed": false,
     "input": [
      "plt.plot(t, y[:, :y.shape[1] / 2])\n",
      "plt.xlabel('Time [sec]')\n",
      "plt.legend(q)\n",
      "plt.title(\"Generalized Coordinates\");"
     ],
     "language": "python",
     "metadata": {},
     "outputs": [
      {
       "metadata": {},
       "output_type": "display_data",
       "png": "[encoded data removed]",
       "text": [
        "<matplotlib.figure.Figure at 0x7f3bc9fbacd0>"
       ]
      }
     ],
     "prompt_number": 29
    },
    {
     "cell_type": "code",
     "collapsed": false,
     "input": [
      "plt.plot(t, y[:, y.shape[1] / 2:])\n",
      "plt.xlabel('Time [sec]')\n",
      "plt.legend(u)\n",
      "plt.title(\"Generalized Speeds\");"
     ],
     "language": "python",
     "metadata": {},
     "outputs": [
      {
       "metadata": {},
       "output_type": "display_data",
       "png": "[encoded data removed]",
       "text": [
        "<matplotlib.figure.Figure at 0x7f3bcf6e8590>"
       ]
      }
     ],
     "prompt_number": 30
    },
    {
     "cell_type": "markdown",
     "metadata": {},
     "source": [
      "---\n",
      "\n",
      "### Animate the Results"
     ]
    },
    {
     "cell_type": "code",
     "collapsed": false,
     "input": [
      "%%capture\n",
      "animate_pendulum(t, y, arm_length, filename=\"closed-loop.mp4\")"
     ],
     "language": "python",
     "metadata": {},
     "outputs": [],
     "prompt_number": 31
    },
    {
     "cell_type": "code",
     "collapsed": false,
     "input": [
      "%%capture\n",
      "!mplayer closed-loop.mp4"
     ],
     "language": "python",
     "metadata": {},
     "outputs": [],
     "prompt_number": 32
    },
    {
     "cell_type": "markdown",
     "metadata": {},
     "source": [
      "---\n",
      "\n",
      "# SymPy Codegen"
     ]
    },
    {
     "cell_type": "code",
     "collapsed": false,
     "input": [
      "from sympy.printing import ccode\n",
      "from sympy.utilities.codegen import codegen\n",
      "from sympy.utilities.autowrap import autowrap\n",
      "from sympy import sin, sqrt, lambdify"
     ],
     "language": "python",
     "metadata": {},
     "outputs": [],
     "prompt_number": 33
    },
    {
     "cell_type": "code",
     "collapsed": false,
     "input": [
      "a, b, c = symbols('a, b, c')\n",
      "expr = a + b*c + sin(a) + sqrt(b)\n",
      "expr"
     ],
     "language": "python",
     "metadata": {},
     "outputs": [
      {
       "latex": [
        "$$a + \\sqrt{b} + b c + \\operatorname{sin}\\left(a\\right)$$"
       ],
       "metadata": {},
       "output_type": "pyout",
       "png": "[encoded data removed]",
       "prompt_number": 34,
       "text": [
        "      ___               \n",
        "a + \u2572\u2571 b  + b\u22c5c + sin(a)"
       ]
      }
     ],
     "prompt_number": 34
    },
    {
     "cell_type": "code",
     "collapsed": false,
     "input": [
      "ccode(expr)"
     ],
     "language": "python",
     "metadata": {},
     "outputs": [
      {
       "metadata": {},
       "output_type": "pyout",
       "prompt_number": 35,
       "text": [
        "'a + sqrt(b) + b*c + sin(a)'"
       ]
      }
     ],
     "prompt_number": 35
    },
    {
     "cell_type": "code",
     "collapsed": false,
     "input": [
      "code, header = codegen((\"test\", expr), \"c\")"
     ],
     "language": "python",
     "metadata": {},
     "outputs": [],
     "prompt_number": 36
    },
    {
     "cell_type": "code",
     "collapsed": false,
     "input": [
      "print(header[1])"
     ],
     "language": "python",
     "metadata": {},
     "outputs": [
      {
       "output_type": "stream",
       "stream": "stdout",
       "text": [
        "/******************************************************************************\n",
        " *                      Code generated with sympy 0.7.6                       *\n",
        " *                                                                            *\n",
        " *              See http://www.sympy.org/ for more information.               *\n",
        " *                                                                            *\n",
        " *                       This file is part of 'project'                       *\n",
        " ******************************************************************************/\n",
        "\n",
        "\n",
        "#ifndef PROJECT__TEST__H\n",
        "#define PROJECT__TEST__H\n",
        "\n",
        "double test(double a, double b, double c);\n",
        "\n",
        "#endif\n",
        "\n",
        "\n"
       ]
      }
     ],
     "prompt_number": 37
    },
    {
     "cell_type": "code",
     "collapsed": false,
     "input": [
      "print(code[1])"
     ],
     "language": "python",
     "metadata": {},
     "outputs": [
      {
       "output_type": "stream",
       "stream": "stdout",
       "text": [
        "/******************************************************************************\n",
        " *                      Code generated with sympy 0.7.6                       *\n",
        " *                                                                            *\n",
        " *              See http://www.sympy.org/ for more information.               *\n",
        " *                                                                            *\n",
        " *                       This file is part of 'project'                       *\n",
        " ******************************************************************************/\n",
        "#include \"test.h\"\n",
        "#include <math.h>\n",
        "\n",
        "double test(double a, double b, double c) {\n",
        "\n",
        "   double test_result;\n",
        "   test_result = a + sqrt(b) + b*c + sin(a);\n",
        "   return test_result;\n",
        "\n",
        "}\n",
        "\n"
       ]
      }
     ],
     "prompt_number": 38
    },
    {
     "cell_type": "code",
     "collapsed": false,
     "input": [
      "f_native = autowrap(expr)"
     ],
     "language": "python",
     "metadata": {},
     "outputs": [],
     "prompt_number": 39
    },
    {
     "cell_type": "code",
     "collapsed": false,
     "input": [
      "f_native(1, 2, 3)"
     ],
     "language": "python",
     "metadata": {},
     "outputs": [
      {
       "latex": [
        "$$9.25568454718$$"
       ],
       "metadata": {},
       "output_type": "pyout",
       "png": "[encoded data removed]",
       "prompt_number": 40,
       "text": [
        "9.25568454718"
       ]
      }
     ],
     "prompt_number": 40
    },
    {
     "cell_type": "code",
     "collapsed": false,
     "input": [
      "f_python = lambdify((a, b, c), expr)"
     ],
     "language": "python",
     "metadata": {},
     "outputs": [],
     "prompt_number": 41
    },
    {
     "cell_type": "code",
     "collapsed": false,
     "input": [
      "f_python(1, 2, 3)"
     ],
     "language": "python",
     "metadata": {},
     "outputs": [
      {
       "latex": [
        "$$9.25568454718$$"
       ],
       "metadata": {},
       "output_type": "pyout",
       "png": "[encoded data removed]",
       "prompt_number": 42,
       "text": [
        "9.25568454718"
       ]
      }
     ],
     "prompt_number": 42
    },
    {
     "cell_type": "code",
     "collapsed": false,
     "input": [
      "%timeit f_native(1, 2, 3)"
     ],
     "language": "python",
     "metadata": {},
     "outputs": [
      {
       "output_type": "stream",
       "stream": "stdout",
       "text": [
        "1000000 loops, best of 3: 471 ns per loop\n"
       ]
      }
     ],
     "prompt_number": 43
    },
    {
     "cell_type": "code",
     "collapsed": false,
     "input": [
      "%timeit f_python(1, 2, 3)"
     ],
     "language": "python",
     "metadata": {},
     "outputs": [
      {
       "output_type": "stream",
       "stream": "stdout",
       "text": [
        "1000000 loops, best of 3: 775 ns per loop\n"
       ]
      }
     ],
     "prompt_number": 44
    }
   ],
   "metadata": {}
  }
 ]
}